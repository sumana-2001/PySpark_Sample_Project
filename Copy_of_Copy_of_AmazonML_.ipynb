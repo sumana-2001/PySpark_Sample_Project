{
  "nbformat": 4,
  "nbformat_minor": 0,
  "metadata": {
    "colab": {
      "provenance": [],
      "machine_shape": "hm"
    },
    "kernelspec": {
      "name": "python3",
      "display_name": "Python 3"
    },
    "gpuClass": "standard"
  },
  "cells": [
    {
      "cell_type": "code",
      "metadata": {
        "id": "tZRSiDYNQLSr"
      },
      "source": [
        "# as you can see current ram is 12GB only, to increase it run below code"
      ],
      "execution_count": null,
      "outputs": []
    },
    {
      "cell_type": "code",
      "source": [
        "from google.colab import drive\n",
        "drive.mount('/content/drive')"
      ],
      "metadata": {
        "colab": {
          "base_uri": "https://localhost:8080/"
        },
        "id": "3cwlti7XFemh",
        "outputId": "a3745b11-000e-4831-c893-29e11cc3df56"
      },
      "execution_count": 1,
      "outputs": [
        {
          "output_type": "stream",
          "name": "stdout",
          "text": [
            "Mounted at /content/drive\n"
          ]
        }
      ]
    },
    {
      "cell_type": "markdown",
      "source": [
        "DATA READING USING PANDAS CSV FILE"
      ],
      "metadata": {
        "id": "_h4sBJ7FF4j6"
      }
    },
    {
      "cell_type": "code",
      "source": [
        "import pandas as pd"
      ],
      "metadata": {
        "id": "gmEy8HUvFkSC"
      },
      "execution_count": 2,
      "outputs": []
    },
    {
      "cell_type": "code",
      "source": [
        "df_check = pd.read_csv(\"/content/drive/MyDrive/ datasets/dataset/Updated_MLDataset.csv\")"
      ],
      "metadata": {
        "id": "TSocOdNYFnYM"
      },
      "execution_count": null,
      "outputs": []
    },
    {
      "cell_type": "code",
      "source": [
        "df_check.drop('Unnamed: 0',inplace=True, axis=1)"
      ],
      "metadata": {
        "id": "QVcGz6zGFrRa"
      },
      "execution_count": null,
      "outputs": []
    },
    {
      "cell_type": "code",
      "source": [
        "df_check.head(10)"
      ],
      "metadata": {
        "colab": {
          "base_uri": "https://localhost:8080/",
          "height": 892
        },
        "id": "9nVRrXKGFvbC",
        "outputId": "248c79f2-e497-4e95-e631-b215c21a03b9"
      },
      "execution_count": null,
      "outputs": [
        {
          "output_type": "execute_result",
          "data": {
            "text/plain": [
              "   PRODUCT_ID  PRODUCT_TYPE_ID  \\\n",
              "0     1925202             1650   \n",
              "1     2673191             2755   \n",
              "2     2765088             7537   \n",
              "3     1594019             2996   \n",
              "4      283658             6112   \n",
              "5     2152929             5725   \n",
              "6      413758               23   \n",
              "7     2026580             6030   \n",
              "8     2050239             3302   \n",
              "9     2998633             8201   \n",
              "\n",
              "                                                TEXT  PRODUCT_LENGTH  \\\n",
              "0  ArtzFolio Tulip Flowers Blackout Curtain for D...     2125.980000   \n",
              "1  Marks & Spencer Girls' Pyjama Sets T86_2561C_N...      393.700000   \n",
              "2  PRIKNIK Horn Red Electric Air Horn Compressor ...      748.031495   \n",
              "3  ALISHAH Women's Cotton Ankle Length Leggings C...      787.401574   \n",
              "4  The United Empire Loyalists: A Chronicle of th...      598.424000   \n",
              "5  HINS Metal Bucket Shape Plant Pot for Indoor &...      950.000000   \n",
              "6                    Ungifted: My Life and Journey        598.000000   \n",
              "7  Delavala Self Adhesive Kitchen Backsplash Wall...      984.251967   \n",
              "8  PUMA Cali Sport Clean Women's Sneakers White L...      393.700000   \n",
              "9  Hexwell Essential oil for Home Fragrance Oil A...      393.700787   \n",
              "\n",
              "                                          CLEAN_TEXT  \n",
              "0  ArtzFolio Tulip Flowers Blackout Curtain for D...  \n",
              "1  Marks Spencer Girls' Pyjama Sets TCNavy Mix-Y ...  \n",
              "2  PRIKNIK Horn Red Electric Air Horn Compressor ...  \n",
              "3  ALISHAH Women's Cotton Ankle Length Leggings C...  \n",
              "4  The United Empire Loyalists A Chronicle of the...  \n",
              "5  HINS Metal Bucket Shape Plant Pot for Indoor O...  \n",
              "6                       Ungifted My Life and Journey  \n",
              "7  Delavala Self Adhesive Kitchen Backsplash Wall...  \n",
              "8  PUMA Cali Sport Clean Women's Sneakers White L...  \n",
              "9  Hexwell Essential oil for Home Fragrance Oil A...  "
            ],
            "text/html": [
              "\n",
              "  <div id=\"df-9e449e90-4006-44d1-a07f-936f639c2e5b\">\n",
              "    <div class=\"colab-df-container\">\n",
              "      <div>\n",
              "<style scoped>\n",
              "    .dataframe tbody tr th:only-of-type {\n",
              "        vertical-align: middle;\n",
              "    }\n",
              "\n",
              "    .dataframe tbody tr th {\n",
              "        vertical-align: top;\n",
              "    }\n",
              "\n",
              "    .dataframe thead th {\n",
              "        text-align: right;\n",
              "    }\n",
              "</style>\n",
              "<table border=\"1\" class=\"dataframe\">\n",
              "  <thead>\n",
              "    <tr style=\"text-align: right;\">\n",
              "      <th></th>\n",
              "      <th>PRODUCT_ID</th>\n",
              "      <th>PRODUCT_TYPE_ID</th>\n",
              "      <th>TEXT</th>\n",
              "      <th>PRODUCT_LENGTH</th>\n",
              "      <th>CLEAN_TEXT</th>\n",
              "    </tr>\n",
              "  </thead>\n",
              "  <tbody>\n",
              "    <tr>\n",
              "      <th>0</th>\n",
              "      <td>1925202</td>\n",
              "      <td>1650</td>\n",
              "      <td>ArtzFolio Tulip Flowers Blackout Curtain for D...</td>\n",
              "      <td>2125.980000</td>\n",
              "      <td>ArtzFolio Tulip Flowers Blackout Curtain for D...</td>\n",
              "    </tr>\n",
              "    <tr>\n",
              "      <th>1</th>\n",
              "      <td>2673191</td>\n",
              "      <td>2755</td>\n",
              "      <td>Marks &amp; Spencer Girls' Pyjama Sets T86_2561C_N...</td>\n",
              "      <td>393.700000</td>\n",
              "      <td>Marks Spencer Girls' Pyjama Sets TCNavy Mix-Y ...</td>\n",
              "    </tr>\n",
              "    <tr>\n",
              "      <th>2</th>\n",
              "      <td>2765088</td>\n",
              "      <td>7537</td>\n",
              "      <td>PRIKNIK Horn Red Electric Air Horn Compressor ...</td>\n",
              "      <td>748.031495</td>\n",
              "      <td>PRIKNIK Horn Red Electric Air Horn Compressor ...</td>\n",
              "    </tr>\n",
              "    <tr>\n",
              "      <th>3</th>\n",
              "      <td>1594019</td>\n",
              "      <td>2996</td>\n",
              "      <td>ALISHAH Women's Cotton Ankle Length Leggings C...</td>\n",
              "      <td>787.401574</td>\n",
              "      <td>ALISHAH Women's Cotton Ankle Length Leggings C...</td>\n",
              "    </tr>\n",
              "    <tr>\n",
              "      <th>4</th>\n",
              "      <td>283658</td>\n",
              "      <td>6112</td>\n",
              "      <td>The United Empire Loyalists: A Chronicle of th...</td>\n",
              "      <td>598.424000</td>\n",
              "      <td>The United Empire Loyalists A Chronicle of the...</td>\n",
              "    </tr>\n",
              "    <tr>\n",
              "      <th>5</th>\n",
              "      <td>2152929</td>\n",
              "      <td>5725</td>\n",
              "      <td>HINS Metal Bucket Shape Plant Pot for Indoor &amp;...</td>\n",
              "      <td>950.000000</td>\n",
              "      <td>HINS Metal Bucket Shape Plant Pot for Indoor O...</td>\n",
              "    </tr>\n",
              "    <tr>\n",
              "      <th>6</th>\n",
              "      <td>413758</td>\n",
              "      <td>23</td>\n",
              "      <td>Ungifted: My Life and Journey</td>\n",
              "      <td>598.000000</td>\n",
              "      <td>Ungifted My Life and Journey</td>\n",
              "    </tr>\n",
              "    <tr>\n",
              "      <th>7</th>\n",
              "      <td>2026580</td>\n",
              "      <td>6030</td>\n",
              "      <td>Delavala Self Adhesive Kitchen Backsplash Wall...</td>\n",
              "      <td>984.251967</td>\n",
              "      <td>Delavala Self Adhesive Kitchen Backsplash Wall...</td>\n",
              "    </tr>\n",
              "    <tr>\n",
              "      <th>8</th>\n",
              "      <td>2050239</td>\n",
              "      <td>3302</td>\n",
              "      <td>PUMA Cali Sport Clean Women's Sneakers White L...</td>\n",
              "      <td>393.700000</td>\n",
              "      <td>PUMA Cali Sport Clean Women's Sneakers White L...</td>\n",
              "    </tr>\n",
              "    <tr>\n",
              "      <th>9</th>\n",
              "      <td>2998633</td>\n",
              "      <td>8201</td>\n",
              "      <td>Hexwell Essential oil for Home Fragrance Oil A...</td>\n",
              "      <td>393.700787</td>\n",
              "      <td>Hexwell Essential oil for Home Fragrance Oil A...</td>\n",
              "    </tr>\n",
              "  </tbody>\n",
              "</table>\n",
              "</div>\n",
              "      <button class=\"colab-df-convert\" onclick=\"convertToInteractive('df-9e449e90-4006-44d1-a07f-936f639c2e5b')\"\n",
              "              title=\"Convert this dataframe to an interactive table.\"\n",
              "              style=\"display:none;\">\n",
              "        \n",
              "  <svg xmlns=\"http://www.w3.org/2000/svg\" height=\"24px\"viewBox=\"0 0 24 24\"\n",
              "       width=\"24px\">\n",
              "    <path d=\"M0 0h24v24H0V0z\" fill=\"none\"/>\n",
              "    <path d=\"M18.56 5.44l.94 2.06.94-2.06 2.06-.94-2.06-.94-.94-2.06-.94 2.06-2.06.94zm-11 1L8.5 8.5l.94-2.06 2.06-.94-2.06-.94L8.5 2.5l-.94 2.06-2.06.94zm10 10l.94 2.06.94-2.06 2.06-.94-2.06-.94-.94-2.06-.94 2.06-2.06.94z\"/><path d=\"M17.41 7.96l-1.37-1.37c-.4-.4-.92-.59-1.43-.59-.52 0-1.04.2-1.43.59L10.3 9.45l-7.72 7.72c-.78.78-.78 2.05 0 2.83L4 21.41c.39.39.9.59 1.41.59.51 0 1.02-.2 1.41-.59l7.78-7.78 2.81-2.81c.8-.78.8-2.07 0-2.86zM5.41 20L4 18.59l7.72-7.72 1.47 1.35L5.41 20z\"/>\n",
              "  </svg>\n",
              "      </button>\n",
              "      \n",
              "  <style>\n",
              "    .colab-df-container {\n",
              "      display:flex;\n",
              "      flex-wrap:wrap;\n",
              "      gap: 12px;\n",
              "    }\n",
              "\n",
              "    .colab-df-convert {\n",
              "      background-color: #E8F0FE;\n",
              "      border: none;\n",
              "      border-radius: 50%;\n",
              "      cursor: pointer;\n",
              "      display: none;\n",
              "      fill: #1967D2;\n",
              "      height: 32px;\n",
              "      padding: 0 0 0 0;\n",
              "      width: 32px;\n",
              "    }\n",
              "\n",
              "    .colab-df-convert:hover {\n",
              "      background-color: #E2EBFA;\n",
              "      box-shadow: 0px 1px 2px rgba(60, 64, 67, 0.3), 0px 1px 3px 1px rgba(60, 64, 67, 0.15);\n",
              "      fill: #174EA6;\n",
              "    }\n",
              "\n",
              "    [theme=dark] .colab-df-convert {\n",
              "      background-color: #3B4455;\n",
              "      fill: #D2E3FC;\n",
              "    }\n",
              "\n",
              "    [theme=dark] .colab-df-convert:hover {\n",
              "      background-color: #434B5C;\n",
              "      box-shadow: 0px 1px 3px 1px rgba(0, 0, 0, 0.15);\n",
              "      filter: drop-shadow(0px 1px 2px rgba(0, 0, 0, 0.3));\n",
              "      fill: #FFFFFF;\n",
              "    }\n",
              "  </style>\n",
              "\n",
              "      <script>\n",
              "        const buttonEl =\n",
              "          document.querySelector('#df-9e449e90-4006-44d1-a07f-936f639c2e5b button.colab-df-convert');\n",
              "        buttonEl.style.display =\n",
              "          google.colab.kernel.accessAllowed ? 'block' : 'none';\n",
              "\n",
              "        async function convertToInteractive(key) {\n",
              "          const element = document.querySelector('#df-9e449e90-4006-44d1-a07f-936f639c2e5b');\n",
              "          const dataTable =\n",
              "            await google.colab.kernel.invokeFunction('convertToInteractive',\n",
              "                                                     [key], {});\n",
              "          if (!dataTable) return;\n",
              "\n",
              "          const docLinkHtml = 'Like what you see? Visit the ' +\n",
              "            '<a target=\"_blank\" href=https://colab.research.google.com/notebooks/data_table.ipynb>data table notebook</a>'\n",
              "            + ' to learn more about interactive tables.';\n",
              "          element.innerHTML = '';\n",
              "          dataTable['output_type'] = 'display_data';\n",
              "          await google.colab.output.renderOutput(dataTable, element);\n",
              "          const docLink = document.createElement('div');\n",
              "          docLink.innerHTML = docLinkHtml;\n",
              "          element.appendChild(docLink);\n",
              "        }\n",
              "      </script>\n",
              "    </div>\n",
              "  </div>\n",
              "  "
            ]
          },
          "metadata": {},
          "execution_count": 6
        }
      ]
    },
    {
      "cell_type": "code",
      "source": [
        "df_check.isnull().sum()"
      ],
      "metadata": {
        "colab": {
          "base_uri": "https://localhost:8080/"
        },
        "id": "KGKVkVt0FxsF",
        "outputId": "97ab0099-6703-4d33-c7d7-88221d348ba6"
      },
      "execution_count": null,
      "outputs": [
        {
          "output_type": "execute_result",
          "data": {
            "text/plain": [
              "PRODUCT_ID           0\n",
              "PRODUCT_TYPE_ID      0\n",
              "TEXT                 0\n",
              "PRODUCT_LENGTH       0\n",
              "CLEAN_TEXT         741\n",
              "dtype: int64"
            ]
          },
          "metadata": {},
          "execution_count": 7
        }
      ]
    },
    {
      "cell_type": "code",
      "source": [
        "nulled_data = df_check[df_check[\"CLEAN_TEXT\"].isnull() == True]"
      ],
      "metadata": {
        "id": "QPMoDpzcF0sP"
      },
      "execution_count": null,
      "outputs": []
    },
    {
      "cell_type": "code",
      "source": [
        "df_check[df_check[\"PRODUCT_ID\"] == 543678]"
      ],
      "metadata": {
        "colab": {
          "base_uri": "https://localhost:8080/",
          "height": 159
        },
        "id": "QcaCvrHCGA7y",
        "outputId": "1edd80b9-d143-478e-eedf-d506f7275ddc"
      },
      "execution_count": null,
      "outputs": [
        {
          "output_type": "execute_result",
          "data": {
            "text/plain": [
              "         PRODUCT_ID  PRODUCT_TYPE_ID  \\\n",
              "2192995      543678            12403   \n",
              "\n",
              "                                                      TEXT  PRODUCT_LENGTH  \\\n",
              "2192995  2 साल के बच्चों के लिए रंग भरने वाली किताबें (...           850.0   \n",
              "\n",
              "        CLEAN_TEXT  \n",
              "2192995        NaN  "
            ],
            "text/html": [
              "\n",
              "  <div id=\"df-f8a39eff-49b8-4e5e-b729-b0365a96682a\">\n",
              "    <div class=\"colab-df-container\">\n",
              "      <div>\n",
              "<style scoped>\n",
              "    .dataframe tbody tr th:only-of-type {\n",
              "        vertical-align: middle;\n",
              "    }\n",
              "\n",
              "    .dataframe tbody tr th {\n",
              "        vertical-align: top;\n",
              "    }\n",
              "\n",
              "    .dataframe thead th {\n",
              "        text-align: right;\n",
              "    }\n",
              "</style>\n",
              "<table border=\"1\" class=\"dataframe\">\n",
              "  <thead>\n",
              "    <tr style=\"text-align: right;\">\n",
              "      <th></th>\n",
              "      <th>PRODUCT_ID</th>\n",
              "      <th>PRODUCT_TYPE_ID</th>\n",
              "      <th>TEXT</th>\n",
              "      <th>PRODUCT_LENGTH</th>\n",
              "      <th>CLEAN_TEXT</th>\n",
              "    </tr>\n",
              "  </thead>\n",
              "  <tbody>\n",
              "    <tr>\n",
              "      <th>2192995</th>\n",
              "      <td>543678</td>\n",
              "      <td>12403</td>\n",
              "      <td>2 साल के बच्चों के लिए रंग भरने वाली किताबें (...</td>\n",
              "      <td>850.0</td>\n",
              "      <td>NaN</td>\n",
              "    </tr>\n",
              "  </tbody>\n",
              "</table>\n",
              "</div>\n",
              "      <button class=\"colab-df-convert\" onclick=\"convertToInteractive('df-f8a39eff-49b8-4e5e-b729-b0365a96682a')\"\n",
              "              title=\"Convert this dataframe to an interactive table.\"\n",
              "              style=\"display:none;\">\n",
              "        \n",
              "  <svg xmlns=\"http://www.w3.org/2000/svg\" height=\"24px\"viewBox=\"0 0 24 24\"\n",
              "       width=\"24px\">\n",
              "    <path d=\"M0 0h24v24H0V0z\" fill=\"none\"/>\n",
              "    <path d=\"M18.56 5.44l.94 2.06.94-2.06 2.06-.94-2.06-.94-.94-2.06-.94 2.06-2.06.94zm-11 1L8.5 8.5l.94-2.06 2.06-.94-2.06-.94L8.5 2.5l-.94 2.06-2.06.94zm10 10l.94 2.06.94-2.06 2.06-.94-2.06-.94-.94-2.06-.94 2.06-2.06.94z\"/><path d=\"M17.41 7.96l-1.37-1.37c-.4-.4-.92-.59-1.43-.59-.52 0-1.04.2-1.43.59L10.3 9.45l-7.72 7.72c-.78.78-.78 2.05 0 2.83L4 21.41c.39.39.9.59 1.41.59.51 0 1.02-.2 1.41-.59l7.78-7.78 2.81-2.81c.8-.78.8-2.07 0-2.86zM5.41 20L4 18.59l7.72-7.72 1.47 1.35L5.41 20z\"/>\n",
              "  </svg>\n",
              "      </button>\n",
              "      \n",
              "  <style>\n",
              "    .colab-df-container {\n",
              "      display:flex;\n",
              "      flex-wrap:wrap;\n",
              "      gap: 12px;\n",
              "    }\n",
              "\n",
              "    .colab-df-convert {\n",
              "      background-color: #E8F0FE;\n",
              "      border: none;\n",
              "      border-radius: 50%;\n",
              "      cursor: pointer;\n",
              "      display: none;\n",
              "      fill: #1967D2;\n",
              "      height: 32px;\n",
              "      padding: 0 0 0 0;\n",
              "      width: 32px;\n",
              "    }\n",
              "\n",
              "    .colab-df-convert:hover {\n",
              "      background-color: #E2EBFA;\n",
              "      box-shadow: 0px 1px 2px rgba(60, 64, 67, 0.3), 0px 1px 3px 1px rgba(60, 64, 67, 0.15);\n",
              "      fill: #174EA6;\n",
              "    }\n",
              "\n",
              "    [theme=dark] .colab-df-convert {\n",
              "      background-color: #3B4455;\n",
              "      fill: #D2E3FC;\n",
              "    }\n",
              "\n",
              "    [theme=dark] .colab-df-convert:hover {\n",
              "      background-color: #434B5C;\n",
              "      box-shadow: 0px 1px 3px 1px rgba(0, 0, 0, 0.15);\n",
              "      filter: drop-shadow(0px 1px 2px rgba(0, 0, 0, 0.3));\n",
              "      fill: #FFFFFF;\n",
              "    }\n",
              "  </style>\n",
              "\n",
              "      <script>\n",
              "        const buttonEl =\n",
              "          document.querySelector('#df-f8a39eff-49b8-4e5e-b729-b0365a96682a button.colab-df-convert');\n",
              "        buttonEl.style.display =\n",
              "          google.colab.kernel.accessAllowed ? 'block' : 'none';\n",
              "\n",
              "        async function convertToInteractive(key) {\n",
              "          const element = document.querySelector('#df-f8a39eff-49b8-4e5e-b729-b0365a96682a');\n",
              "          const dataTable =\n",
              "            await google.colab.kernel.invokeFunction('convertToInteractive',\n",
              "                                                     [key], {});\n",
              "          if (!dataTable) return;\n",
              "\n",
              "          const docLinkHtml = 'Like what you see? Visit the ' +\n",
              "            '<a target=\"_blank\" href=https://colab.research.google.com/notebooks/data_table.ipynb>data table notebook</a>'\n",
              "            + ' to learn more about interactive tables.';\n",
              "          element.innerHTML = '';\n",
              "          dataTable['output_type'] = 'display_data';\n",
              "          await google.colab.output.renderOutput(dataTable, element);\n",
              "          const docLink = document.createElement('div');\n",
              "          docLink.innerHTML = docLinkHtml;\n",
              "          element.appendChild(docLink);\n",
              "        }\n",
              "      </script>\n",
              "    </div>\n",
              "  </div>\n",
              "  "
            ]
          },
          "metadata": {},
          "execution_count": 9
        }
      ]
    },
    {
      "cell_type": "code",
      "source": [
        "nulled_data.tail(20)"
      ],
      "metadata": {
        "colab": {
          "base_uri": "https://localhost:8080/",
          "height": 948
        },
        "id": "kW2yVOC-GD-m",
        "outputId": "772dd2d2-1c4c-4541-ae41-1280f8bcaf5a"
      },
      "execution_count": null,
      "outputs": [
        {
          "output_type": "execute_result",
          "data": {
            "text/plain": [
              "         PRODUCT_ID  PRODUCT_TYPE_ID  \\\n",
              "2192995      543678            12403   \n",
              "2196693     1880762               99   \n",
              "2196702     1351783                3   \n",
              "2197664     2534142              110   \n",
              "2204382      731933             6314   \n",
              "2205402      362231              123   \n",
              "2209745      940742              804   \n",
              "2210298      675229                1   \n",
              "2211985      722611               80   \n",
              "2215683      724956               99   \n",
              "2220303      719213               87   \n",
              "2222573      788756              100   \n",
              "2226300      860174             1027   \n",
              "2232278      723435              224   \n",
              "2233722      796524                7   \n",
              "2240375      722675                0   \n",
              "2240848     1184408              829   \n",
              "2244676      529645               28   \n",
              "2246067      622901            12743   \n",
              "2248811      732773                1   \n",
              "\n",
              "                                                      TEXT  PRODUCT_LENGTH  \\\n",
              "2192995  2 साल के बच्चों के लिए रंग भरने वाली किताबें (...      850.000000   \n",
              "2196693                இந்தக் குளத்தில் கல்லெறிந்தவர்கள்        842.519684   \n",
              "2196702                                             5150        675.000000   \n",
              "2197664  जज़्बात ए दिल \"\" तेरे दिल तक पहुंचे मेरे दिल के...      787.401574   \n",
              "2204382                              Рассказы о Надежде?        590.550000   \n",
              "2205402                                            1 2 3        600.000000   \n",
              "2209745                                               15        556.000000   \n",
              "2210298  Фитнес для эмоций или Оздоровительная психолог...      591.000000   \n",
              "2211985              Вязание детских вещей от 3 до 6 лет        583.000000   \n",
              "2215683               Стоик. Трилогия желания. ... кни&)        583.000000   \n",
              "2220303  革新的な不動産マッチングのアイデア:不動産仲介を容易に: 不動産のマッチング:革新的な不動産...      500.000000   \n",
              "2222573                                                .         39.370000   \n",
              "2226300                                       4299082923        525.000000   \n",
              "2232278  Радищев и его книга: Путешествие из Петербурга...      583.000000   \n",
              "2233722                                             1935        550.000000   \n",
              "2240375                 Из истории романа и ... Выпуск 1        825.000000   \n",
              "2240848                                        نساك موتك        550.000000   \n",
              "2244676                   السلطات الإدارية ... الع&#1585        600.000000   \n",
              "2246067                                              115        437.007000   \n",
              "2248811  ?????????????????????????? ?????????????????? ...      590.550000   \n",
              "\n",
              "        CLEAN_TEXT  \n",
              "2192995        NaN  \n",
              "2196693        NaN  \n",
              "2196702        NaN  \n",
              "2197664        NaN  \n",
              "2204382        NaN  \n",
              "2205402        NaN  \n",
              "2209745        NaN  \n",
              "2210298        NaN  \n",
              "2211985        NaN  \n",
              "2215683        NaN  \n",
              "2220303        NaN  \n",
              "2222573        NaN  \n",
              "2226300        NaN  \n",
              "2232278        NaN  \n",
              "2233722        NaN  \n",
              "2240375        NaN  \n",
              "2240848        NaN  \n",
              "2244676        NaN  \n",
              "2246067        NaN  \n",
              "2248811        NaN  "
            ],
            "text/html": [
              "\n",
              "  <div id=\"df-e6e39182-d592-4593-980d-78654eed7b56\">\n",
              "    <div class=\"colab-df-container\">\n",
              "      <div>\n",
              "<style scoped>\n",
              "    .dataframe tbody tr th:only-of-type {\n",
              "        vertical-align: middle;\n",
              "    }\n",
              "\n",
              "    .dataframe tbody tr th {\n",
              "        vertical-align: top;\n",
              "    }\n",
              "\n",
              "    .dataframe thead th {\n",
              "        text-align: right;\n",
              "    }\n",
              "</style>\n",
              "<table border=\"1\" class=\"dataframe\">\n",
              "  <thead>\n",
              "    <tr style=\"text-align: right;\">\n",
              "      <th></th>\n",
              "      <th>PRODUCT_ID</th>\n",
              "      <th>PRODUCT_TYPE_ID</th>\n",
              "      <th>TEXT</th>\n",
              "      <th>PRODUCT_LENGTH</th>\n",
              "      <th>CLEAN_TEXT</th>\n",
              "    </tr>\n",
              "  </thead>\n",
              "  <tbody>\n",
              "    <tr>\n",
              "      <th>2192995</th>\n",
              "      <td>543678</td>\n",
              "      <td>12403</td>\n",
              "      <td>2 साल के बच्चों के लिए रंग भरने वाली किताबें (...</td>\n",
              "      <td>850.000000</td>\n",
              "      <td>NaN</td>\n",
              "    </tr>\n",
              "    <tr>\n",
              "      <th>2196693</th>\n",
              "      <td>1880762</td>\n",
              "      <td>99</td>\n",
              "      <td>இந்தக் குளத்தில் கல்லெறிந்தவர்கள்</td>\n",
              "      <td>842.519684</td>\n",
              "      <td>NaN</td>\n",
              "    </tr>\n",
              "    <tr>\n",
              "      <th>2196702</th>\n",
              "      <td>1351783</td>\n",
              "      <td>3</td>\n",
              "      <td>5150</td>\n",
              "      <td>675.000000</td>\n",
              "      <td>NaN</td>\n",
              "    </tr>\n",
              "    <tr>\n",
              "      <th>2197664</th>\n",
              "      <td>2534142</td>\n",
              "      <td>110</td>\n",
              "      <td>जज़्बात ए दिल \"\" तेरे दिल तक पहुंचे मेरे दिल के...</td>\n",
              "      <td>787.401574</td>\n",
              "      <td>NaN</td>\n",
              "    </tr>\n",
              "    <tr>\n",
              "      <th>2204382</th>\n",
              "      <td>731933</td>\n",
              "      <td>6314</td>\n",
              "      <td>Рассказы о Надежде?</td>\n",
              "      <td>590.550000</td>\n",
              "      <td>NaN</td>\n",
              "    </tr>\n",
              "    <tr>\n",
              "      <th>2205402</th>\n",
              "      <td>362231</td>\n",
              "      <td>123</td>\n",
              "      <td>1 2 3</td>\n",
              "      <td>600.000000</td>\n",
              "      <td>NaN</td>\n",
              "    </tr>\n",
              "    <tr>\n",
              "      <th>2209745</th>\n",
              "      <td>940742</td>\n",
              "      <td>804</td>\n",
              "      <td>15</td>\n",
              "      <td>556.000000</td>\n",
              "      <td>NaN</td>\n",
              "    </tr>\n",
              "    <tr>\n",
              "      <th>2210298</th>\n",
              "      <td>675229</td>\n",
              "      <td>1</td>\n",
              "      <td>Фитнес для эмоций или Оздоровительная психолог...</td>\n",
              "      <td>591.000000</td>\n",
              "      <td>NaN</td>\n",
              "    </tr>\n",
              "    <tr>\n",
              "      <th>2211985</th>\n",
              "      <td>722611</td>\n",
              "      <td>80</td>\n",
              "      <td>Вязание детских вещей от 3 до 6 лет</td>\n",
              "      <td>583.000000</td>\n",
              "      <td>NaN</td>\n",
              "    </tr>\n",
              "    <tr>\n",
              "      <th>2215683</th>\n",
              "      <td>724956</td>\n",
              "      <td>99</td>\n",
              "      <td>Стоик. Трилогия желания. ... кни&amp;)</td>\n",
              "      <td>583.000000</td>\n",
              "      <td>NaN</td>\n",
              "    </tr>\n",
              "    <tr>\n",
              "      <th>2220303</th>\n",
              "      <td>719213</td>\n",
              "      <td>87</td>\n",
              "      <td>革新的な不動産マッチングのアイデア:不動産仲介を容易に: 不動産のマッチング:革新的な不動産...</td>\n",
              "      <td>500.000000</td>\n",
              "      <td>NaN</td>\n",
              "    </tr>\n",
              "    <tr>\n",
              "      <th>2222573</th>\n",
              "      <td>788756</td>\n",
              "      <td>100</td>\n",
              "      <td>.</td>\n",
              "      <td>39.370000</td>\n",
              "      <td>NaN</td>\n",
              "    </tr>\n",
              "    <tr>\n",
              "      <th>2226300</th>\n",
              "      <td>860174</td>\n",
              "      <td>1027</td>\n",
              "      <td>4299082923</td>\n",
              "      <td>525.000000</td>\n",
              "      <td>NaN</td>\n",
              "    </tr>\n",
              "    <tr>\n",
              "      <th>2232278</th>\n",
              "      <td>723435</td>\n",
              "      <td>224</td>\n",
              "      <td>Радищев и его книга: Путешествие из Петербурга...</td>\n",
              "      <td>583.000000</td>\n",
              "      <td>NaN</td>\n",
              "    </tr>\n",
              "    <tr>\n",
              "      <th>2233722</th>\n",
              "      <td>796524</td>\n",
              "      <td>7</td>\n",
              "      <td>1935</td>\n",
              "      <td>550.000000</td>\n",
              "      <td>NaN</td>\n",
              "    </tr>\n",
              "    <tr>\n",
              "      <th>2240375</th>\n",
              "      <td>722675</td>\n",
              "      <td>0</td>\n",
              "      <td>Из истории романа и ... Выпуск 1</td>\n",
              "      <td>825.000000</td>\n",
              "      <td>NaN</td>\n",
              "    </tr>\n",
              "    <tr>\n",
              "      <th>2240848</th>\n",
              "      <td>1184408</td>\n",
              "      <td>829</td>\n",
              "      <td>نساك موتك</td>\n",
              "      <td>550.000000</td>\n",
              "      <td>NaN</td>\n",
              "    </tr>\n",
              "    <tr>\n",
              "      <th>2244676</th>\n",
              "      <td>529645</td>\n",
              "      <td>28</td>\n",
              "      <td>السلطات الإدارية ... الع&amp;#1585</td>\n",
              "      <td>600.000000</td>\n",
              "      <td>NaN</td>\n",
              "    </tr>\n",
              "    <tr>\n",
              "      <th>2246067</th>\n",
              "      <td>622901</td>\n",
              "      <td>12743</td>\n",
              "      <td>115</td>\n",
              "      <td>437.007000</td>\n",
              "      <td>NaN</td>\n",
              "    </tr>\n",
              "    <tr>\n",
              "      <th>2248811</th>\n",
              "      <td>732773</td>\n",
              "      <td>1</td>\n",
              "      <td>?????????????????????????? ?????????????????? ...</td>\n",
              "      <td>590.550000</td>\n",
              "      <td>NaN</td>\n",
              "    </tr>\n",
              "  </tbody>\n",
              "</table>\n",
              "</div>\n",
              "      <button class=\"colab-df-convert\" onclick=\"convertToInteractive('df-e6e39182-d592-4593-980d-78654eed7b56')\"\n",
              "              title=\"Convert this dataframe to an interactive table.\"\n",
              "              style=\"display:none;\">\n",
              "        \n",
              "  <svg xmlns=\"http://www.w3.org/2000/svg\" height=\"24px\"viewBox=\"0 0 24 24\"\n",
              "       width=\"24px\">\n",
              "    <path d=\"M0 0h24v24H0V0z\" fill=\"none\"/>\n",
              "    <path d=\"M18.56 5.44l.94 2.06.94-2.06 2.06-.94-2.06-.94-.94-2.06-.94 2.06-2.06.94zm-11 1L8.5 8.5l.94-2.06 2.06-.94-2.06-.94L8.5 2.5l-.94 2.06-2.06.94zm10 10l.94 2.06.94-2.06 2.06-.94-2.06-.94-.94-2.06-.94 2.06-2.06.94z\"/><path d=\"M17.41 7.96l-1.37-1.37c-.4-.4-.92-.59-1.43-.59-.52 0-1.04.2-1.43.59L10.3 9.45l-7.72 7.72c-.78.78-.78 2.05 0 2.83L4 21.41c.39.39.9.59 1.41.59.51 0 1.02-.2 1.41-.59l7.78-7.78 2.81-2.81c.8-.78.8-2.07 0-2.86zM5.41 20L4 18.59l7.72-7.72 1.47 1.35L5.41 20z\"/>\n",
              "  </svg>\n",
              "      </button>\n",
              "      \n",
              "  <style>\n",
              "    .colab-df-container {\n",
              "      display:flex;\n",
              "      flex-wrap:wrap;\n",
              "      gap: 12px;\n",
              "    }\n",
              "\n",
              "    .colab-df-convert {\n",
              "      background-color: #E8F0FE;\n",
              "      border: none;\n",
              "      border-radius: 50%;\n",
              "      cursor: pointer;\n",
              "      display: none;\n",
              "      fill: #1967D2;\n",
              "      height: 32px;\n",
              "      padding: 0 0 0 0;\n",
              "      width: 32px;\n",
              "    }\n",
              "\n",
              "    .colab-df-convert:hover {\n",
              "      background-color: #E2EBFA;\n",
              "      box-shadow: 0px 1px 2px rgba(60, 64, 67, 0.3), 0px 1px 3px 1px rgba(60, 64, 67, 0.15);\n",
              "      fill: #174EA6;\n",
              "    }\n",
              "\n",
              "    [theme=dark] .colab-df-convert {\n",
              "      background-color: #3B4455;\n",
              "      fill: #D2E3FC;\n",
              "    }\n",
              "\n",
              "    [theme=dark] .colab-df-convert:hover {\n",
              "      background-color: #434B5C;\n",
              "      box-shadow: 0px 1px 3px 1px rgba(0, 0, 0, 0.15);\n",
              "      filter: drop-shadow(0px 1px 2px rgba(0, 0, 0, 0.3));\n",
              "      fill: #FFFFFF;\n",
              "    }\n",
              "  </style>\n",
              "\n",
              "      <script>\n",
              "        const buttonEl =\n",
              "          document.querySelector('#df-e6e39182-d592-4593-980d-78654eed7b56 button.colab-df-convert');\n",
              "        buttonEl.style.display =\n",
              "          google.colab.kernel.accessAllowed ? 'block' : 'none';\n",
              "\n",
              "        async function convertToInteractive(key) {\n",
              "          const element = document.querySelector('#df-e6e39182-d592-4593-980d-78654eed7b56');\n",
              "          const dataTable =\n",
              "            await google.colab.kernel.invokeFunction('convertToInteractive',\n",
              "                                                     [key], {});\n",
              "          if (!dataTable) return;\n",
              "\n",
              "          const docLinkHtml = 'Like what you see? Visit the ' +\n",
              "            '<a target=\"_blank\" href=https://colab.research.google.com/notebooks/data_table.ipynb>data table notebook</a>'\n",
              "            + ' to learn more about interactive tables.';\n",
              "          element.innerHTML = '';\n",
              "          dataTable['output_type'] = 'display_data';\n",
              "          await google.colab.output.renderOutput(dataTable, element);\n",
              "          const docLink = document.createElement('div');\n",
              "          docLink.innerHTML = docLinkHtml;\n",
              "          element.appendChild(docLink);\n",
              "        }\n",
              "      </script>\n",
              "    </div>\n",
              "  </div>\n",
              "  "
            ]
          },
          "metadata": {},
          "execution_count": 10
        }
      ]
    },
    {
      "cell_type": "markdown",
      "source": [
        "INSTALLATION OF PYSPARK USING PYPI COMMANDS"
      ],
      "metadata": {
        "id": "YHVGqYScGKHh"
      }
    },
    {
      "cell_type": "code",
      "source": [
        "!pip install pyspark"
      ],
      "metadata": {
        "colab": {
          "base_uri": "https://localhost:8080/"
        },
        "id": "fB6wMtcgGPgl",
        "outputId": "fa4f6c18-39fc-435b-ec77-974294954b88"
      },
      "execution_count": 3,
      "outputs": [
        {
          "output_type": "stream",
          "name": "stdout",
          "text": [
            "Looking in indexes: https://pypi.org/simple, https://us-python.pkg.dev/colab-wheels/public/simple/\n",
            "Collecting pyspark\n",
            "  Downloading pyspark-3.4.0.tar.gz (310.8 MB)\n",
            "\u001b[2K     \u001b[90m━━━━━━━━━━━━━━━━━━━━━━━━━━━━━━━━━━━━━━━\u001b[0m \u001b[32m310.8/310.8 MB\u001b[0m \u001b[31m4.1 MB/s\u001b[0m eta \u001b[36m0:00:00\u001b[0m\n",
            "\u001b[?25h  Preparing metadata (setup.py) ... \u001b[?25l\u001b[?25hdone\n",
            "Requirement already satisfied: py4j==0.10.9.7 in /usr/local/lib/python3.9/dist-packages (from pyspark) (0.10.9.7)\n",
            "Building wheels for collected packages: pyspark\n",
            "  Building wheel for pyspark (setup.py) ... \u001b[?25l\u001b[?25hdone\n",
            "  Created wheel for pyspark: filename=pyspark-3.4.0-py2.py3-none-any.whl size=311317145 sha256=7709f00bb51ac8f253c742760502f6a68b4fef801e0e11dd4a71427db5e0a339\n",
            "  Stored in directory: /root/.cache/pip/wheels/9f/34/a4/159aa12d0a510d5ff7c8f0220abbea42e5d81ecf588c4fd884\n",
            "Successfully built pyspark\n",
            "Installing collected packages: pyspark\n",
            "Successfully installed pyspark-3.4.0\n"
          ]
        }
      ]
    },
    {
      "cell_type": "code",
      "source": [
        "from pyspark.sql import SparkSession\n",
        "from pyspark.ml import Pipeline\n",
        "from pyspark.ml.feature import CountVectorizer,StringIndexer, RegexTokenizer,StopWordsRemover,Tokenizer,IDF"
      ],
      "metadata": {
        "id": "Gqfc_jPvGUMn"
      },
      "execution_count": 4,
      "outputs": []
    },
    {
      "cell_type": "markdown",
      "source": [
        "CREATION OF SPARK SESSION"
      ],
      "metadata": {
        "id": "DBR03cBlGbTI"
      }
    },
    {
      "cell_type": "code",
      "source": [
        "#spark = SparkSession.builder.appName('ml_nlp').getOrCreate()\n",
        "spark = SparkSession.builder.master(\"local[*]\").config(\"spark.executor.memory\", \"200g\").config(\"spark.driver.memory\", \"100g\").config(\"spark.memory.offHeap.enabled\",\"true\").config(\"spark.memory.offHeap.size\",\"50g\") .appName(\"ml-nlp1\").getOrCreate()\n",
        "'''spark = SparkSession.builder \\\n",
        "    .master(\"local[*]\") \\\n",
        "    .appName(\"ml-nlp1\") \\\n",
        "    .getOrCreate()'''"
      ],
      "metadata": {
        "colab": {
          "base_uri": "https://localhost:8080/",
          "height": 53
        },
        "id": "DOUYLbYxGWE4",
        "outputId": "f606129b-89dd-44ff-ec9c-f51a517c0404"
      },
      "execution_count": 5,
      "outputs": [
        {
          "output_type": "execute_result",
          "data": {
            "text/plain": [
              "'spark = SparkSession.builder     .master(\"local[*]\")     .appName(\"ml-nlp1\")     .getOrCreate()'"
            ],
            "application/vnd.google.colaboratory.intrinsic+json": {
              "type": "string"
            }
          },
          "metadata": {},
          "execution_count": 5
        }
      ]
    },
    {
      "cell_type": "code",
      "source": [
        "spark"
      ],
      "metadata": {
        "colab": {
          "base_uri": "https://localhost:8080/",
          "height": 219
        },
        "id": "XBu3o58YGh1E",
        "outputId": "e19c4db7-71f3-47ec-87c4-f0c6e4cb0ab6"
      },
      "execution_count": 6,
      "outputs": [
        {
          "output_type": "execute_result",
          "data": {
            "text/plain": [
              "<pyspark.sql.session.SparkSession at 0x7ff529be75e0>"
            ],
            "text/html": [
              "\n",
              "            <div>\n",
              "                <p><b>SparkSession - in-memory</b></p>\n",
              "                \n",
              "        <div>\n",
              "            <p><b>SparkContext</b></p>\n",
              "\n",
              "            <p><a href=\"http://c33984c4f0c5:4040\">Spark UI</a></p>\n",
              "\n",
              "            <dl>\n",
              "              <dt>Version</dt>\n",
              "                <dd><code>v3.4.0</code></dd>\n",
              "              <dt>Master</dt>\n",
              "                <dd><code>local[*]</code></dd>\n",
              "              <dt>AppName</dt>\n",
              "                <dd><code>ml-nlp1</code></dd>\n",
              "            </dl>\n",
              "        </div>\n",
              "        \n",
              "            </div>\n",
              "        "
            ]
          },
          "metadata": {},
          "execution_count": 6
        }
      ]
    },
    {
      "cell_type": "code",
      "source": [
        "file_path = \"/content/drive/MyDrive/ datasets/dataset/Updated_MLDataset.csv\""
      ],
      "metadata": {
        "id": "X9PIi0cRGlmM"
      },
      "execution_count": 7,
      "outputs": []
    },
    {
      "cell_type": "code",
      "source": [
        "#convert pandas dataframe df_check to pyspark dataframe\n",
        "dataframe_spark = spark.createDataFrame(df_check)"
      ],
      "metadata": {
        "id": "_UQShlSdGt_i"
      },
      "execution_count": null,
      "outputs": []
    },
    {
      "cell_type": "code",
      "source": [
        "dataframe_spark = spark.read.csv(file_path,inferSchema=True, header=True)"
      ],
      "metadata": {
        "id": "b8Jw5csJND0f"
      },
      "execution_count": 8,
      "outputs": []
    },
    {
      "cell_type": "code",
      "source": [
        "dataframe_spark.printSchema()"
      ],
      "metadata": {
        "colab": {
          "base_uri": "https://localhost:8080/"
        },
        "id": "JkumRgn_G1Sa",
        "outputId": "68f60e12-ddc2-4a60-9f67-74909618ab56"
      },
      "execution_count": 9,
      "outputs": [
        {
          "output_type": "stream",
          "name": "stdout",
          "text": [
            "root\n",
            " |-- _c0: integer (nullable = true)\n",
            " |-- PRODUCT_ID: integer (nullable = true)\n",
            " |-- PRODUCT_TYPE_ID: integer (nullable = true)\n",
            " |-- TEXT: string (nullable = true)\n",
            " |-- PRODUCT_LENGTH: string (nullable = true)\n",
            " |-- CLEAN_TEXT: string (nullable = true)\n",
            "\n"
          ]
        }
      ]
    },
    {
      "cell_type": "code",
      "source": [
        "from pyspark.sql.functions import col,isnan, when, count,isnull\n",
        "dataframe_spark.select([count(when(isnull(c), c)).alias(c) for c in dataframe_spark.columns]).show()"
      ],
      "metadata": {
        "colab": {
          "base_uri": "https://localhost:8080/"
        },
        "id": "u1bLPPDHG35n",
        "outputId": "cfab5e34-f5b8-45aa-91e8-4637b9e6c971"
      },
      "execution_count": 10,
      "outputs": [
        {
          "output_type": "stream",
          "name": "stdout",
          "text": [
            "+---+----------+---------------+----+--------------+----------+\n",
            "|_c0|PRODUCT_ID|PRODUCT_TYPE_ID|TEXT|PRODUCT_LENGTH|CLEAN_TEXT|\n",
            "+---+----------+---------------+----+--------------+----------+\n",
            "|  0|         0|              0|   0|           106|       849|\n",
            "+---+----------+---------------+----+--------------+----------+\n",
            "\n"
          ]
        }
      ]
    },
    {
      "cell_type": "code",
      "source": [
        "dataframe_spark.show(20)"
      ],
      "metadata": {
        "id": "ZT7bH8y7G8FS",
        "colab": {
          "base_uri": "https://localhost:8080/"
        },
        "outputId": "b87b774b-43b1-48e0-c445-c4e138960ea2"
      },
      "execution_count": 11,
      "outputs": [
        {
          "output_type": "stream",
          "name": "stdout",
          "text": [
            "+---+----------+---------------+--------------------+--------------+--------------------+\n",
            "|_c0|PRODUCT_ID|PRODUCT_TYPE_ID|                TEXT|PRODUCT_LENGTH|          CLEAN_TEXT|\n",
            "+---+----------+---------------+--------------------+--------------+--------------------+\n",
            "|  0|   1925202|           1650|ArtzFolio Tulip F...|       2125.98|ArtzFolio Tulip F...|\n",
            "|  1|   2673191|           2755|Marks & Spencer G...|         393.7|Marks Spencer Gir...|\n",
            "|  2|   2765088|           7537|PRIKNIK Horn Red ...|   748.0314953|PRIKNIK Horn Red ...|\n",
            "|  3|   1594019|           2996|ALISHAH Women's C...|    787.401574|ALISHAH Women's C...|\n",
            "|  4|    283658|           6112|The United Empire...|       598.424|The United Empire...|\n",
            "|  5|   2152929|           5725|HINS Metal Bucket...|         950.0|HINS Metal Bucket...|\n",
            "|  6|    413758|             23|Ungifted: My Life...|         598.0|Ungifted My Life ...|\n",
            "|  7|   2026580|           6030|Delavala Self Adh...|   984.2519675|Delavala Self Adh...|\n",
            "|  8|   2050239|           3302|PUMA Cali Sport C...|         393.7|PUMA Cali Sport C...|\n",
            "|  9|   2998633|           8201|Hexwell Essential...|    393.700787|Hexwell Essential...|\n",
            "| 10|   2857066|          10359|3NH® Glasses Gogg...|   590.5511805|NH Glasses Goggle...|\n",
            "| 11|    833712|              1|La Mure / Valbonn...|        433.07|La Mure Valbonnai...|\n",
            "| 12|    648364|              1|J'ecris des lettr...|       759.841|J'ecris des lettr...|\n",
            "| 13|   1991694|             32|Mediterranean die...|         600.0|Mediterranean die...|\n",
            "| 14|   2790448|           1273|SEGOVIA Single Wa...|   314.9606296|SEGOVIA Single Wa...|\n",
            "| 15|   1810976|              6|Stone & Beam Fan ...|         670.0|Stone Beam Fan Em...|\n",
            "| 16|   1262926|              0|Star Trek 50th An...|         100.0|Star Trek th Anni...|\n",
            "| 17|   1491106|           8046|Steelbird Hi-Gn S...|      1240.155|Steelbird Hi-Gn S...|\n",
            "| 18|   1543564|           3247|Kenneth Cole REAC...|         500.0|Kenneth Cole REAC...|\n",
            "| 19|    793582|            716|MASTER OF THE RIN...|         750.0|MASTER OF THE RIN...|\n",
            "+---+----------+---------------+--------------------+--------------+--------------------+\n",
            "only showing top 20 rows\n",
            "\n"
          ]
        }
      ]
    },
    {
      "cell_type": "markdown",
      "source": [
        "REMOVING NULL VALUES FROM DATASET"
      ],
      "metadata": {
        "id": "uXlAtoYGHLim"
      }
    },
    {
      "cell_type": "code",
      "source": [
        "import gc \n",
        "#del nulled_data\n",
        "gc.collect()"
      ],
      "metadata": {
        "id": "sBY1SxHzHJRD",
        "colab": {
          "base_uri": "https://localhost:8080/"
        },
        "outputId": "9268937d-b80b-4110-9d62-7a3eee86e25e"
      },
      "execution_count": 43,
      "outputs": [
        {
          "output_type": "execute_result",
          "data": {
            "text/plain": [
              "251"
            ]
          },
          "metadata": {},
          "execution_count": 43
        }
      ]
    },
    {
      "cell_type": "code",
      "source": [
        "updated_data = dataframe_spark.dropna(how=\"any\")"
      ],
      "metadata": {
        "id": "9k0MEkJoKZcH"
      },
      "execution_count": 10,
      "outputs": []
    },
    {
      "cell_type": "code",
      "source": [
        "updated_data.count()"
      ],
      "metadata": {
        "colab": {
          "base_uri": "https://localhost:8080/"
        },
        "id": "MEvNWDRzTEYU",
        "outputId": "d096e3b6-a1be-48b3-84c7-78330e3091a7"
      },
      "execution_count": 11,
      "outputs": [
        {
          "output_type": "execute_result",
          "data": {
            "text/plain": [
              "2248746"
            ]
          },
          "metadata": {},
          "execution_count": 11
        }
      ]
    },
    {
      "cell_type": "code",
      "source": [
        "dataframe_spark.count()"
      ],
      "metadata": {
        "colab": {
          "base_uri": "https://localhost:8080/"
        },
        "id": "tViqSGXXR2w1",
        "outputId": "d84acddd-5730-4746-f085-2065687e1bcb"
      },
      "execution_count": null,
      "outputs": [
        {
          "output_type": "execute_result",
          "data": {
            "text/plain": [
              "2249698"
            ]
          },
          "metadata": {},
          "execution_count": 37
        }
      ]
    },
    {
      "cell_type": "markdown",
      "source": [
        "TOKENIZATION"
      ],
      "metadata": {
        "id": "ZxX6fJhMPRTO"
      }
    },
    {
      "cell_type": "code",
      "source": [
        "tokenizer = Tokenizer(inputCol=\"CLEAN_TEXT\",outputCol=\"TOKENS\")\n",
        "t = tokenizer.transform(updated_data)"
      ],
      "metadata": {
        "id": "OunhKzjeMd_g"
      },
      "execution_count": 12,
      "outputs": []
    },
    {
      "cell_type": "code",
      "source": [
        "t.show(5)"
      ],
      "metadata": {
        "colab": {
          "base_uri": "https://localhost:8080/"
        },
        "id": "NgKF3nNtTXiA",
        "outputId": "3771df4b-0dc3-4fb2-8331-66f3aec670be"
      },
      "execution_count": 13,
      "outputs": [
        {
          "output_type": "stream",
          "name": "stdout",
          "text": [
            "+---+----------+---------------+--------------------+--------------+--------------------+--------------------+\n",
            "|_c0|PRODUCT_ID|PRODUCT_TYPE_ID|                TEXT|PRODUCT_LENGTH|          CLEAN_TEXT|              TOKENS|\n",
            "+---+----------+---------------+--------------------+--------------+--------------------+--------------------+\n",
            "|  0|   1925202|           1650|ArtzFolio Tulip F...|       2125.98|ArtzFolio Tulip F...|[artzfolio, tulip...|\n",
            "|  1|   2673191|           2755|Marks & Spencer G...|         393.7|Marks Spencer Gir...|[marks, spencer, ...|\n",
            "|  2|   2765088|           7537|PRIKNIK Horn Red ...|   748.0314953|PRIKNIK Horn Red ...|[priknik, horn, r...|\n",
            "|  3|   1594019|           2996|ALISHAH Women's C...|    787.401574|ALISHAH Women's C...|[alishah, women's...|\n",
            "|  4|    283658|           6112|The United Empire...|       598.424|The United Empire...|[the, united, emp...|\n",
            "+---+----------+---------------+--------------------+--------------+--------------------+--------------------+\n",
            "only showing top 5 rows\n",
            "\n"
          ]
        }
      ]
    },
    {
      "cell_type": "markdown",
      "source": [
        "STOPWORDS REMOVAL"
      ],
      "metadata": {
        "id": "3Ax_tdIFTgaO"
      }
    },
    {
      "cell_type": "code",
      "source": [
        "remover = StopWordsRemover(inputCol=\"TOKENS\", outputCol=\"UPDATED_TOKENS\")\n",
        "words_df = remover.transform(t) "
      ],
      "metadata": {
        "id": "OFiyEj3KTeHm"
      },
      "execution_count": 14,
      "outputs": []
    },
    {
      "cell_type": "code",
      "source": [
        "words_df.show()"
      ],
      "metadata": {
        "colab": {
          "base_uri": "https://localhost:8080/"
        },
        "id": "AKlfYzG-TncM",
        "outputId": "70d9402f-0d2c-4264-eb94-e69c9c2f9f97"
      },
      "execution_count": 15,
      "outputs": [
        {
          "output_type": "stream",
          "name": "stdout",
          "text": [
            "+---+----------+---------------+--------------------+--------------+--------------------+--------------------+--------------------+\n",
            "|_c0|PRODUCT_ID|PRODUCT_TYPE_ID|                TEXT|PRODUCT_LENGTH|          CLEAN_TEXT|              TOKENS|      UPDATED_TOKENS|\n",
            "+---+----------+---------------+--------------------+--------------+--------------------+--------------------+--------------------+\n",
            "|  0|   1925202|           1650|ArtzFolio Tulip F...|       2125.98|ArtzFolio Tulip F...|[artzfolio, tulip...|[artzfolio, tulip...|\n",
            "|  1|   2673191|           2755|Marks & Spencer G...|         393.7|Marks Spencer Gir...|[marks, spencer, ...|[marks, spencer, ...|\n",
            "|  2|   2765088|           7537|PRIKNIK Horn Red ...|   748.0314953|PRIKNIK Horn Red ...|[priknik, horn, r...|[priknik, horn, r...|\n",
            "|  3|   1594019|           2996|ALISHAH Women's C...|    787.401574|ALISHAH Women's C...|[alishah, women's...|[alishah, women's...|\n",
            "|  4|    283658|           6112|The United Empire...|       598.424|The United Empire...|[the, united, emp...|[united, empire, ...|\n",
            "|  5|   2152929|           5725|HINS Metal Bucket...|         950.0|HINS Metal Bucket...|[hins, metal, buc...|[hins, metal, buc...|\n",
            "|  6|    413758|             23|Ungifted: My Life...|         598.0|Ungifted My Life ...|[ungifted, my, li...|[ungifted, life, ...|\n",
            "|  7|   2026580|           6030|Delavala Self Adh...|   984.2519675|Delavala Self Adh...|[delavala, self, ...|[delavala, self, ...|\n",
            "|  8|   2050239|           3302|PUMA Cali Sport C...|         393.7|PUMA Cali Sport C...|[puma, cali, spor...|[puma, cali, spor...|\n",
            "|  9|   2998633|           8201|Hexwell Essential...|    393.700787|Hexwell Essential...|[hexwell, essenti...|[hexwell, essenti...|\n",
            "| 10|   2857066|          10359|3NH® Glasses Gogg...|   590.5511805|NH Glasses Goggle...|[nh, glasses, gog...|[nh, glasses, gog...|\n",
            "| 11|    833712|              1|La Mure / Valbonn...|        433.07|La Mure Valbonnai...|[la, mure, valbon...|[la, mure, valbon...|\n",
            "| 12|    648364|              1|J'ecris des lettr...|       759.841|J'ecris des lettr...|[j'ecris, des, le...|[j'ecris, des, le...|\n",
            "| 13|   1991694|             32|Mediterranean die...|         600.0|Mediterranean die...|[mediterranean, d...|[mediterranean, d...|\n",
            "| 14|   2790448|           1273|SEGOVIA Single Wa...|   314.9606296|SEGOVIA Single Wa...|[segovia, single,...|[segovia, single,...|\n",
            "| 15|   1810976|              6|Stone & Beam Fan ...|         670.0|Stone Beam Fan Em...|[stone, beam, fan...|[stone, beam, fan...|\n",
            "| 16|   1262926|              0|Star Trek 50th An...|         100.0|Star Trek th Anni...|[star, trek, th, ...|[star, trek, th, ...|\n",
            "| 17|   1491106|           8046|Steelbird Hi-Gn S...|      1240.155|Steelbird Hi-Gn S...|[steelbird, hi-gn...|[steelbird, hi-gn...|\n",
            "| 18|   1543564|           3247|Kenneth Cole REAC...|         500.0|Kenneth Cole REAC...|[kenneth, cole, r...|[kenneth, cole, r...|\n",
            "| 19|    793582|            716|MASTER OF THE RIN...|         750.0|MASTER OF THE RIN...|[master, of, the,...|[master, rings, m...|\n",
            "+---+----------+---------------+--------------------+--------------+--------------------+--------------------+--------------------+\n",
            "only showing top 20 rows\n",
            "\n"
          ]
        }
      ]
    },
    {
      "cell_type": "markdown",
      "source": [
        "HASHINGTF VECTORIZATION USING PYSPARK"
      ],
      "metadata": {
        "id": "yxK9AEpHTwGJ"
      }
    },
    {
      "cell_type": "code",
      "source": [
        "from pyspark.ml.feature import HashingTF, IDF, Tokenizer"
      ],
      "metadata": {
        "id": "soMLsLZXTqGv"
      },
      "execution_count": 16,
      "outputs": []
    },
    {
      "cell_type": "code",
      "source": [
        "hash_it = HashingTF(inputCol=\"UPDATED_TOKENS\", outputCol=\"FEATURES\")\n",
        "result = hash_it.transform(words_df)"
      ],
      "metadata": {
        "id": "-Qnqj6HMT0lk"
      },
      "execution_count": 17,
      "outputs": []
    },
    {
      "cell_type": "code",
      "source": [
        "result.select(\"UPDATED_TOKENS\",\"FEATURES\").show()"
      ],
      "metadata": {
        "colab": {
          "base_uri": "https://localhost:8080/"
        },
        "id": "HYJNcAQUT2xp",
        "outputId": "d449cda0-4c6e-475a-c15a-71660996e5c9"
      },
      "execution_count": 18,
      "outputs": [
        {
          "output_type": "stream",
          "name": "stdout",
          "text": [
            "+--------------------+--------------------+\n",
            "|      UPDATED_TOKENS|            FEATURES|\n",
            "+--------------------+--------------------+\n",
            "|[artzfolio, tulip...|(262144,[1797,201...|\n",
            "|[marks, spencer, ...|(262144,[20161,25...|\n",
            "|[priknik, horn, r...|(262144,[9788,105...|\n",
            "|[alishah, women's...|(262144,[2425,302...|\n",
            "|[united, empire, ...|(262144,[13463,71...|\n",
            "|[hins, metal, buc...|(262144,[2019,366...|\n",
            "|[ungifted, life, ...|(262144,[71530,13...|\n",
            "|[delavala, self, ...|(262144,[1469,208...|\n",
            "|[puma, cali, spor...|(262144,[24698,44...|\n",
            "|[hexwell, essenti...|(262144,[3564,112...|\n",
            "|[nh, glasses, gog...|(262144,[22999,24...|\n",
            "|[la, mure, valbon...|(262144,[67603,12...|\n",
            "|[j'ecris, des, le...|(262144,[719,2998...|\n",
            "|[mediterranean, d...|(262144,[88845,96...|\n",
            "|[segovia, single,...|(262144,[4176,100...|\n",
            "|[stone, beam, fan...|(262144,[16806,25...|\n",
            "|[star, trek, th, ...|(262144,[64208,64...|\n",
            "|[steelbird, hi-gn...|(262144,[1705,396...|\n",
            "|[kenneth, cole, r...|(262144,[12285,67...|\n",
            "|[master, rings, m...|(262144,[28883,23...|\n",
            "+--------------------+--------------------+\n",
            "only showing top 20 rows\n",
            "\n"
          ]
        }
      ]
    },
    {
      "cell_type": "markdown",
      "source": [
        "TFIDF VECTORIZATION"
      ],
      "metadata": {
        "id": "eHhuqcrsT_IA"
      }
    },
    {
      "cell_type": "code",
      "source": [
        "idf = IDF(inputCol=\"FEATURES\", outputCol=\"UPDATED_FEATURES\").fit(result)\n",
        "UpdatedData_spark = idf.transform(result) "
      ],
      "metadata": {
        "id": "in12d4KbT5Sz"
      },
      "execution_count": 19,
      "outputs": []
    },
    {
      "cell_type": "code",
      "source": [
        "UpdatedData_spark.show()"
      ],
      "metadata": {
        "colab": {
          "base_uri": "https://localhost:8080/"
        },
        "id": "cOzMcDkTUG-T",
        "outputId": "815ad05a-6311-4abf-f64f-51b3f4a99743"
      },
      "execution_count": 20,
      "outputs": [
        {
          "output_type": "stream",
          "name": "stdout",
          "text": [
            "+---+----------+---------------+--------------------+--------------+--------------------+--------------------+--------------------+--------------------+--------------------+\n",
            "|_c0|PRODUCT_ID|PRODUCT_TYPE_ID|                TEXT|PRODUCT_LENGTH|          CLEAN_TEXT|              TOKENS|      UPDATED_TOKENS|            FEATURES|    UPDATED_FEATURES|\n",
            "+---+----------+---------------+--------------------+--------------+--------------------+--------------------+--------------------+--------------------+--------------------+\n",
            "|  0|   1925202|           1650|ArtzFolio Tulip F...|       2125.98|ArtzFolio Tulip F...|[artzfolio, tulip...|[artzfolio, tulip...|(262144,[1797,201...|(262144,[1797,201...|\n",
            "|  1|   2673191|           2755|Marks & Spencer G...|         393.7|Marks Spencer Gir...|[marks, spencer, ...|[marks, spencer, ...|(262144,[20161,25...|(262144,[20161,25...|\n",
            "|  2|   2765088|           7537|PRIKNIK Horn Red ...|   748.0314953|PRIKNIK Horn Red ...|[priknik, horn, r...|[priknik, horn, r...|(262144,[9788,105...|(262144,[9788,105...|\n",
            "|  3|   1594019|           2996|ALISHAH Women's C...|    787.401574|ALISHAH Women's C...|[alishah, women's...|[alishah, women's...|(262144,[2425,302...|(262144,[2425,302...|\n",
            "|  4|    283658|           6112|The United Empire...|       598.424|The United Empire...|[the, united, emp...|[united, empire, ...|(262144,[13463,71...|(262144,[13463,71...|\n",
            "|  5|   2152929|           5725|HINS Metal Bucket...|         950.0|HINS Metal Bucket...|[hins, metal, buc...|[hins, metal, buc...|(262144,[2019,366...|(262144,[2019,366...|\n",
            "|  6|    413758|             23|Ungifted: My Life...|         598.0|Ungifted My Life ...|[ungifted, my, li...|[ungifted, life, ...|(262144,[71530,13...|(262144,[71530,13...|\n",
            "|  7|   2026580|           6030|Delavala Self Adh...|   984.2519675|Delavala Self Adh...|[delavala, self, ...|[delavala, self, ...|(262144,[1469,208...|(262144,[1469,208...|\n",
            "|  8|   2050239|           3302|PUMA Cali Sport C...|         393.7|PUMA Cali Sport C...|[puma, cali, spor...|[puma, cali, spor...|(262144,[24698,44...|(262144,[24698,44...|\n",
            "|  9|   2998633|           8201|Hexwell Essential...|    393.700787|Hexwell Essential...|[hexwell, essenti...|[hexwell, essenti...|(262144,[3564,112...|(262144,[3564,112...|\n",
            "| 10|   2857066|          10359|3NH® Glasses Gogg...|   590.5511805|NH Glasses Goggle...|[nh, glasses, gog...|[nh, glasses, gog...|(262144,[22999,24...|(262144,[22999,24...|\n",
            "| 11|    833712|              1|La Mure / Valbonn...|        433.07|La Mure Valbonnai...|[la, mure, valbon...|[la, mure, valbon...|(262144,[67603,12...|(262144,[67603,12...|\n",
            "| 12|    648364|              1|J'ecris des lettr...|       759.841|J'ecris des lettr...|[j'ecris, des, le...|[j'ecris, des, le...|(262144,[719,2998...|(262144,[719,2998...|\n",
            "| 13|   1991694|             32|Mediterranean die...|         600.0|Mediterranean die...|[mediterranean, d...|[mediterranean, d...|(262144,[88845,96...|(262144,[88845,96...|\n",
            "| 14|   2790448|           1273|SEGOVIA Single Wa...|   314.9606296|SEGOVIA Single Wa...|[segovia, single,...|[segovia, single,...|(262144,[4176,100...|(262144,[4176,100...|\n",
            "| 15|   1810976|              6|Stone & Beam Fan ...|         670.0|Stone Beam Fan Em...|[stone, beam, fan...|[stone, beam, fan...|(262144,[16806,25...|(262144,[16806,25...|\n",
            "| 16|   1262926|              0|Star Trek 50th An...|         100.0|Star Trek th Anni...|[star, trek, th, ...|[star, trek, th, ...|(262144,[64208,64...|(262144,[64208,64...|\n",
            "| 17|   1491106|           8046|Steelbird Hi-Gn S...|      1240.155|Steelbird Hi-Gn S...|[steelbird, hi-gn...|[steelbird, hi-gn...|(262144,[1705,396...|(262144,[1705,396...|\n",
            "| 18|   1543564|           3247|Kenneth Cole REAC...|         500.0|Kenneth Cole REAC...|[kenneth, cole, r...|[kenneth, cole, r...|(262144,[12285,67...|(262144,[12285,67...|\n",
            "| 19|    793582|            716|MASTER OF THE RIN...|         750.0|MASTER OF THE RIN...|[master, of, the,...|[master, rings, m...|(262144,[28883,23...|(262144,[28883,23...|\n",
            "+---+----------+---------------+--------------------+--------------+--------------------+--------------------+--------------------+--------------------+--------------------+\n",
            "only showing top 20 rows\n",
            "\n"
          ]
        }
      ]
    },
    {
      "cell_type": "code",
      "source": [
        "UpdatedData_spark.printSchema()"
      ],
      "metadata": {
        "colab": {
          "base_uri": "https://localhost:8080/"
        },
        "id": "5KYrQmydV6sg",
        "outputId": "9593d86e-ecb9-4f08-c1e9-1f5d690fac0b"
      },
      "execution_count": 21,
      "outputs": [
        {
          "output_type": "stream",
          "name": "stdout",
          "text": [
            "root\n",
            " |-- _c0: integer (nullable = true)\n",
            " |-- PRODUCT_ID: integer (nullable = true)\n",
            " |-- PRODUCT_TYPE_ID: integer (nullable = true)\n",
            " |-- TEXT: string (nullable = true)\n",
            " |-- PRODUCT_LENGTH: string (nullable = true)\n",
            " |-- CLEAN_TEXT: string (nullable = true)\n",
            " |-- TOKENS: array (nullable = true)\n",
            " |    |-- element: string (containsNull = true)\n",
            " |-- UPDATED_TOKENS: array (nullable = true)\n",
            " |    |-- element: string (containsNull = true)\n",
            " |-- FEATURES: vector (nullable = true)\n",
            " |-- UPDATED_FEATURES: vector (nullable = true)\n",
            "\n"
          ]
        }
      ]
    },
    {
      "cell_type": "code",
      "source": [
        "from pyspark.sql.functions import col,isnan, when, count,isnull\n",
        "UpdatedData_spark.select([count(when(isnull(c), c)).alias(c) for c in UpdatedData_spark.columns]).show()"
      ],
      "metadata": {
        "colab": {
          "base_uri": "https://localhost:8080/"
        },
        "id": "homLPkPpdZhH",
        "outputId": "e490c92e-bef4-41d9-83eb-8ace80995cae"
      },
      "execution_count": 24,
      "outputs": [
        {
          "output_type": "stream",
          "name": "stdout",
          "text": [
            "+---+----------+---------------+----+--------------+----------+------+--------------+--------+----------------+\n",
            "|_c0|PRODUCT_ID|PRODUCT_TYPE_ID|TEXT|PRODUCT_LENGTH|CLEAN_TEXT|TOKENS|UPDATED_TOKENS|FEATURES|UPDATED_FEATURES|\n",
            "+---+----------+---------------+----+--------------+----------+------+--------------+--------+----------------+\n",
            "|  0|         0|              0|   0|             0|         0|     0|             0|       0|               0|\n",
            "+---+----------+---------------+----+--------------+----------+------+--------------+--------+----------------+\n",
            "\n"
          ]
        }
      ]
    },
    {
      "cell_type": "code",
      "source": [
        "#storing data inform of csv file\n",
        "impt_path = \"/content/drive/MyDrive/ datasets/dataset/file\"\n",
        "UpdatedData_spark.write.format(\"parquet\").save(impt_path)"
      ],
      "metadata": {
        "id": "5EXp88BNrTVe"
      },
      "execution_count": null,
      "outputs": []
    },
    {
      "cell_type": "markdown",
      "source": [
        "MODEL BUILDING "
      ],
      "metadata": {
        "id": "xj2svkNWVrGN"
      }
    },
    {
      "cell_type": "code",
      "source": [
        "from pyspark.ml import Pipeline\n",
        "from pyspark.ml.regression import RandomForestRegressor,LinearRegression\n",
        "from pyspark.ml.feature import VectorAssembler"
      ],
      "metadata": {
        "id": "hra3HluNVtSi"
      },
      "execution_count": 22,
      "outputs": []
    },
    {
      "cell_type": "code",
      "source": [
        "#Vector Assembler to seperate training and test data\n",
        "vectorAssembler = VectorAssembler(inputCols = [\"PRODUCT_TYPE_ID\", \"UPDATED_FEATURES\"],outputCol=\"INPUT_LABELS\")\n",
        "modified_data = vectorAssembler.transform(UpdatedData_spark)"
      ],
      "metadata": {
        "id": "b4VgVjf4VyTG"
      },
      "execution_count": 23,
      "outputs": []
    },
    {
      "cell_type": "code",
      "source": [
        "from pyspark.sql.functions import col,isnan, when, count,isnull\n",
        "modified_data.select([count(when(isnull(c), c)).alias(c) for c in modified_data.columns]).show()"
      ],
      "metadata": {
        "colab": {
          "base_uri": "https://localhost:8080/"
        },
        "id": "NN9ZHCGhdslX",
        "outputId": "298dad94-8916-4ff3-eeee-c6c3adfba138"
      },
      "execution_count": null,
      "outputs": [
        {
          "output_type": "stream",
          "name": "stdout",
          "text": [
            "+---+----------+---------------+----+--------------+----------+------+--------------+--------+----------------+------------+\n",
            "|_c0|PRODUCT_ID|PRODUCT_TYPE_ID|TEXT|PRODUCT_LENGTH|CLEAN_TEXT|TOKENS|UPDATED_TOKENS|FEATURES|UPDATED_FEATURES|INPUT_LABELS|\n",
            "+---+----------+---------------+----+--------------+----------+------+--------------+--------+----------------+------------+\n",
            "|  0|         0|              0|   0|             0|         0|     0|             0|       0|               0|           0|\n",
            "+---+----------+---------------+----+--------------+----------+------+--------------+--------+----------------+------------+\n",
            "\n"
          ]
        }
      ]
    },
    {
      "cell_type": "code",
      "source": [
        "final_data = modified_data.select(\"INPUT_LABELS\",\"PRODUCT_LENGTH\")"
      ],
      "metadata": {
        "id": "zGQIKeppWsXg"
      },
      "execution_count": 24,
      "outputs": []
    },
    {
      "cell_type": "code",
      "source": [
        "final_data = final_data.withColumn(\"PRODUCT_LENGTH_DOUBLE\", final_data[\"PRODUCT_LENGTH\"].cast('double'))"
      ],
      "metadata": {
        "id": "HJxxK_HcXue-"
      },
      "execution_count": 25,
      "outputs": []
    },
    {
      "cell_type": "code",
      "source": [
        "from pyspark.sql.functions import col,isnan, when, count,isnull\n",
        "final_data.select([count(when(isnull(c), c)).alias(c) for c in final_data.columns]).show()"
      ],
      "metadata": {
        "id": "Oe7bXFYmedQC"
      },
      "execution_count": null,
      "outputs": []
    },
    {
      "cell_type": "code",
      "source": [
        "final_data.printSchema()"
      ],
      "metadata": {
        "colab": {
          "base_uri": "https://localhost:8080/"
        },
        "id": "lplDXG4DXi2E",
        "outputId": "b2a0d82c-4973-4a55-d616-22891c879e1c"
      },
      "execution_count": 26,
      "outputs": [
        {
          "output_type": "stream",
          "name": "stdout",
          "text": [
            "root\n",
            " |-- INPUT_LABELS: vector (nullable = true)\n",
            " |-- PRODUCT_LENGTH: string (nullable = true)\n",
            " |-- PRODUCT_LENGTH_DOUBLE: double (nullable = true)\n",
            "\n"
          ]
        }
      ]
    },
    {
      "cell_type": "code",
      "source": [
        "final_data.show()"
      ],
      "metadata": {
        "colab": {
          "base_uri": "https://localhost:8080/"
        },
        "id": "UALMk4z5dO3I",
        "outputId": "617214ae-c0d1-4b04-fee5-56b9d556e6ad"
      },
      "execution_count": 27,
      "outputs": [
        {
          "output_type": "stream",
          "name": "stdout",
          "text": [
            "+--------------------+--------------+---------------------+\n",
            "|        INPUT_LABELS|PRODUCT_LENGTH|PRODUCT_LENGTH_DOUBLE|\n",
            "+--------------------+--------------+---------------------+\n",
            "|(262145,[0,1798,2...|       2125.98|              2125.98|\n",
            "|(262145,[0,20162,...|         393.7|                393.7|\n",
            "|(262145,[0,9789,1...|   748.0314953|          748.0314953|\n",
            "|(262145,[0,2426,3...|    787.401574|           787.401574|\n",
            "|(262145,[0,13464,...|       598.424|              598.424|\n",
            "|(262145,[0,2020,3...|         950.0|                950.0|\n",
            "|(262145,[0,71531,...|         598.0|                598.0|\n",
            "|(262145,[0,1470,2...|   984.2519675|          984.2519675|\n",
            "|(262145,[0,24699,...|         393.7|                393.7|\n",
            "|(262145,[0,3565,1...|    393.700787|           393.700787|\n",
            "|(262145,[0,23000,...|   590.5511805|          590.5511805|\n",
            "|(262145,[0,67604,...|        433.07|               433.07|\n",
            "|(262145,[0,720,29...|       759.841|              759.841|\n",
            "|(262145,[0,88846,...|         600.0|                600.0|\n",
            "|(262145,[0,4177,1...|   314.9606296|          314.9606296|\n",
            "|(262145,[0,16807,...|         670.0|                670.0|\n",
            "|(262145,[64209,64...|         100.0|                100.0|\n",
            "|(262145,[0,1706,3...|      1240.155|             1240.155|\n",
            "|(262145,[0,12286,...|         500.0|                500.0|\n",
            "|(262145,[0,28884,...|         750.0|                750.0|\n",
            "+--------------------+--------------+---------------------+\n",
            "only showing top 20 rows\n",
            "\n"
          ]
        }
      ]
    },
    {
      "cell_type": "code",
      "source": [
        "final_data2 = final_data.select(\"INPUT_LABELS\",\"PRODUCT_LENGTH_DOUBLE\")"
      ],
      "metadata": {
        "id": "r5axbk8Ego9n"
      },
      "execution_count": 28,
      "outputs": []
    },
    {
      "cell_type": "code",
      "source": [
        "final_data2.show()"
      ],
      "metadata": {
        "colab": {
          "base_uri": "https://localhost:8080/"
        },
        "id": "PseL_P0pguh7",
        "outputId": "75231389-28bf-4c54-f055-4b294085b2f6"
      },
      "execution_count": 29,
      "outputs": [
        {
          "output_type": "stream",
          "name": "stdout",
          "text": [
            "+--------------------+---------------------+\n",
            "|        INPUT_LABELS|PRODUCT_LENGTH_DOUBLE|\n",
            "+--------------------+---------------------+\n",
            "|(262145,[0,1798,2...|              2125.98|\n",
            "|(262145,[0,20162,...|                393.7|\n",
            "|(262145,[0,9789,1...|          748.0314953|\n",
            "|(262145,[0,2426,3...|           787.401574|\n",
            "|(262145,[0,13464,...|              598.424|\n",
            "|(262145,[0,2020,3...|                950.0|\n",
            "|(262145,[0,71531,...|                598.0|\n",
            "|(262145,[0,1470,2...|          984.2519675|\n",
            "|(262145,[0,24699,...|                393.7|\n",
            "|(262145,[0,3565,1...|           393.700787|\n",
            "|(262145,[0,23000,...|          590.5511805|\n",
            "|(262145,[0,67604,...|               433.07|\n",
            "|(262145,[0,720,29...|              759.841|\n",
            "|(262145,[0,88846,...|                600.0|\n",
            "|(262145,[0,4177,1...|          314.9606296|\n",
            "|(262145,[0,16807,...|                670.0|\n",
            "|(262145,[64209,64...|                100.0|\n",
            "|(262145,[0,1706,3...|             1240.155|\n",
            "|(262145,[0,12286,...|                500.0|\n",
            "|(262145,[0,28884,...|                750.0|\n",
            "+--------------------+---------------------+\n",
            "only showing top 20 rows\n",
            "\n"
          ]
        }
      ]
    },
    {
      "cell_type": "code",
      "source": [
        "final_data2.printSchema()"
      ],
      "metadata": {
        "colab": {
          "base_uri": "https://localhost:8080/"
        },
        "id": "KTHrDV_IgyDl",
        "outputId": "a03ee724-7e6a-4d3d-acc3-f0ccfc239a2c"
      },
      "execution_count": 30,
      "outputs": [
        {
          "output_type": "stream",
          "name": "stdout",
          "text": [
            "root\n",
            " |-- INPUT_LABELS: vector (nullable = true)\n",
            " |-- PRODUCT_LENGTH_DOUBLE: double (nullable = true)\n",
            "\n"
          ]
        }
      ]
    },
    {
      "cell_type": "markdown",
      "source": [
        "REMOVING NULL VALUES FROM PRODUCT LENGTH DOUBLE"
      ],
      "metadata": {
        "id": "JhkiFZxwyVJJ"
      }
    },
    {
      "cell_type": "code",
      "source": [
        "final_data3 = final_data2.dropna(how=\"any\")"
      ],
      "metadata": {
        "id": "3yYQ-NzNyP73"
      },
      "execution_count": 31,
      "outputs": []
    },
    {
      "cell_type": "code",
      "source": [
        "final_data3.count()"
      ],
      "metadata": {
        "colab": {
          "base_uri": "https://localhost:8080/"
        },
        "id": "sKV71vOjygpR",
        "outputId": "a78a3969-29cc-43ea-c3ff-6f1a60233037"
      },
      "execution_count": 32,
      "outputs": [
        {
          "output_type": "execute_result",
          "data": {
            "text/plain": [
              "1988588"
            ]
          },
          "metadata": {},
          "execution_count": 32
        }
      ]
    },
    {
      "cell_type": "markdown",
      "source": [
        "TRAIN TEST SPLIT"
      ],
      "metadata": {
        "id": "tgC_g71kXdNa"
      }
    },
    {
      "cell_type": "code",
      "source": [
        "train_data, test_data = final_data3.randomSplit([0.8,0.2])"
      ],
      "metadata": {
        "id": "b7PFBN96XHYb"
      },
      "execution_count": 33,
      "outputs": []
    },
    {
      "cell_type": "code",
      "source": [
        "from pyspark.sql.functions import col,isnan, when, count,isnull\n",
        "train_data.select([count(when(isnull(c), c)).alias(c) for c in train_data.columns]).show()"
      ],
      "metadata": {
        "id": "LW4eykyX9MeH"
      },
      "execution_count": null,
      "outputs": []
    },
    {
      "cell_type": "markdown",
      "source": [
        "BUILD LINEAR REGRESSION MODEL"
      ],
      "metadata": {
        "id": "Ai-osxd7YZ8M"
      }
    },
    {
      "cell_type": "code",
      "source": [
        "lr = LinearRegression(featuresCol=\"INPUT_LABELS\",labelCol=\"PRODUCT_LENGTH_DOUBLE\")"
      ],
      "metadata": {
        "id": "QKXruzqGYFcu"
      },
      "execution_count": 34,
      "outputs": []
    },
    {
      "cell_type": "markdown",
      "source": [
        "BUILD REGRESSION MODEL FOR 5 LAKH ENTRIES OF DATASET"
      ],
      "metadata": {
        "id": "9ffZAySIzS2b"
      }
    },
    {
      "cell_type": "code",
      "source": [
        "df_collect = train_data.limit(100)"
      ],
      "metadata": {
        "id": "wmfKK9XQ0ti2"
      },
      "execution_count": 35,
      "outputs": []
    },
    {
      "cell_type": "code",
      "source": [
        "df_collect.printSchema()"
      ],
      "metadata": {
        "colab": {
          "base_uri": "https://localhost:8080/"
        },
        "id": "02-asYqy7HEo",
        "outputId": "9d5609a4-540a-4931-deab-e46ed94076d3"
      },
      "execution_count": 36,
      "outputs": [
        {
          "output_type": "stream",
          "name": "stdout",
          "text": [
            "root\n",
            " |-- INPUT_LABELS: vector (nullable = true)\n",
            " |-- PRODUCT_LENGTH_DOUBLE: double (nullable = true)\n",
            "\n"
          ]
        }
      ]
    },
    {
      "cell_type": "code",
      "source": [
        "lrmodel = lr.fit(df_collect)"
      ],
      "metadata": {
        "colab": {
          "base_uri": "https://localhost:8080/",
          "height": 1000
        },
        "id": "TzZhOyG_YXsU",
        "outputId": "96d1fff9-67a7-4981-afb8-2b0524c91acb"
      },
      "execution_count": 37,
      "outputs": [
        {
          "output_type": "stream",
          "name": "stderr",
          "text": [
            "ERROR:root:Exception while sending command.\n",
            "Traceback (most recent call last):\n",
            "  File \"/usr/local/lib/python3.9/dist-packages/py4j/clientserver.py\", line 516, in send_command\n",
            "    raise Py4JNetworkError(\"Answer from Java side is empty\")\n",
            "py4j.protocol.Py4JNetworkError: Answer from Java side is empty\n",
            "\n",
            "During handling of the above exception, another exception occurred:\n",
            "\n",
            "Traceback (most recent call last):\n",
            "  File \"/usr/local/lib/python3.9/dist-packages/py4j/java_gateway.py\", line 1038, in send_command\n",
            "    response = connection.send_command(command)\n",
            "  File \"/usr/local/lib/python3.9/dist-packages/py4j/clientserver.py\", line 539, in send_command\n",
            "    raise Py4JNetworkError(\n",
            "py4j.protocol.Py4JNetworkError: Error while sending or receiving\n"
          ]
        },
        {
          "output_type": "error",
          "ename": "Py4JError",
          "evalue": "ignored",
          "traceback": [
            "\u001b[0;31m---------------------------------------------------------------------------\u001b[0m",
            "\u001b[0;31mPy4JError\u001b[0m                                 Traceback (most recent call last)",
            "\u001b[0;32m<ipython-input-37-1ee4ac73834c>\u001b[0m in \u001b[0;36m<cell line: 1>\u001b[0;34m()\u001b[0m\n\u001b[0;32m----> 1\u001b[0;31m \u001b[0mlrmodel\u001b[0m \u001b[0;34m=\u001b[0m \u001b[0mlr\u001b[0m\u001b[0;34m.\u001b[0m\u001b[0mfit\u001b[0m\u001b[0;34m(\u001b[0m\u001b[0mdf_collect\u001b[0m\u001b[0;34m)\u001b[0m\u001b[0;34m\u001b[0m\u001b[0;34m\u001b[0m\u001b[0m\n\u001b[0m",
            "\u001b[0;32m/usr/local/lib/python3.9/dist-packages/pyspark/ml/base.py\u001b[0m in \u001b[0;36mfit\u001b[0;34m(self, dataset, params)\u001b[0m\n\u001b[1;32m    203\u001b[0m                 \u001b[0;32mreturn\u001b[0m \u001b[0mself\u001b[0m\u001b[0;34m.\u001b[0m\u001b[0mcopy\u001b[0m\u001b[0;34m(\u001b[0m\u001b[0mparams\u001b[0m\u001b[0;34m)\u001b[0m\u001b[0;34m.\u001b[0m\u001b[0m_fit\u001b[0m\u001b[0;34m(\u001b[0m\u001b[0mdataset\u001b[0m\u001b[0;34m)\u001b[0m\u001b[0;34m\u001b[0m\u001b[0;34m\u001b[0m\u001b[0m\n\u001b[1;32m    204\u001b[0m             \u001b[0;32melse\u001b[0m\u001b[0;34m:\u001b[0m\u001b[0;34m\u001b[0m\u001b[0;34m\u001b[0m\u001b[0m\n\u001b[0;32m--> 205\u001b[0;31m                 \u001b[0;32mreturn\u001b[0m \u001b[0mself\u001b[0m\u001b[0;34m.\u001b[0m\u001b[0m_fit\u001b[0m\u001b[0;34m(\u001b[0m\u001b[0mdataset\u001b[0m\u001b[0;34m)\u001b[0m\u001b[0;34m\u001b[0m\u001b[0;34m\u001b[0m\u001b[0m\n\u001b[0m\u001b[1;32m    206\u001b[0m         \u001b[0;32melse\u001b[0m\u001b[0;34m:\u001b[0m\u001b[0;34m\u001b[0m\u001b[0;34m\u001b[0m\u001b[0m\n\u001b[1;32m    207\u001b[0m             raise TypeError(\n",
            "\u001b[0;32m/usr/local/lib/python3.9/dist-packages/pyspark/ml/wrapper.py\u001b[0m in \u001b[0;36m_fit\u001b[0;34m(self, dataset)\u001b[0m\n\u001b[1;32m    379\u001b[0m \u001b[0;34m\u001b[0m\u001b[0m\n\u001b[1;32m    380\u001b[0m     \u001b[0;32mdef\u001b[0m \u001b[0m_fit\u001b[0m\u001b[0;34m(\u001b[0m\u001b[0mself\u001b[0m\u001b[0;34m,\u001b[0m \u001b[0mdataset\u001b[0m\u001b[0;34m:\u001b[0m \u001b[0mDataFrame\u001b[0m\u001b[0;34m)\u001b[0m \u001b[0;34m->\u001b[0m \u001b[0mJM\u001b[0m\u001b[0;34m:\u001b[0m\u001b[0;34m\u001b[0m\u001b[0;34m\u001b[0m\u001b[0m\n\u001b[0;32m--> 381\u001b[0;31m         \u001b[0mjava_model\u001b[0m \u001b[0;34m=\u001b[0m \u001b[0mself\u001b[0m\u001b[0;34m.\u001b[0m\u001b[0m_fit_java\u001b[0m\u001b[0;34m(\u001b[0m\u001b[0mdataset\u001b[0m\u001b[0;34m)\u001b[0m\u001b[0;34m\u001b[0m\u001b[0;34m\u001b[0m\u001b[0m\n\u001b[0m\u001b[1;32m    382\u001b[0m         \u001b[0mmodel\u001b[0m \u001b[0;34m=\u001b[0m \u001b[0mself\u001b[0m\u001b[0;34m.\u001b[0m\u001b[0m_create_model\u001b[0m\u001b[0;34m(\u001b[0m\u001b[0mjava_model\u001b[0m\u001b[0;34m)\u001b[0m\u001b[0;34m\u001b[0m\u001b[0;34m\u001b[0m\u001b[0m\n\u001b[1;32m    383\u001b[0m         \u001b[0;32mreturn\u001b[0m \u001b[0mself\u001b[0m\u001b[0;34m.\u001b[0m\u001b[0m_copyValues\u001b[0m\u001b[0;34m(\u001b[0m\u001b[0mmodel\u001b[0m\u001b[0;34m)\u001b[0m\u001b[0;34m\u001b[0m\u001b[0;34m\u001b[0m\u001b[0m\n",
            "\u001b[0;32m/usr/local/lib/python3.9/dist-packages/pyspark/ml/wrapper.py\u001b[0m in \u001b[0;36m_fit_java\u001b[0;34m(self, dataset)\u001b[0m\n\u001b[1;32m    376\u001b[0m \u001b[0;34m\u001b[0m\u001b[0m\n\u001b[1;32m    377\u001b[0m         \u001b[0mself\u001b[0m\u001b[0;34m.\u001b[0m\u001b[0m_transfer_params_to_java\u001b[0m\u001b[0;34m(\u001b[0m\u001b[0;34m)\u001b[0m\u001b[0;34m\u001b[0m\u001b[0;34m\u001b[0m\u001b[0m\n\u001b[0;32m--> 378\u001b[0;31m         \u001b[0;32mreturn\u001b[0m \u001b[0mself\u001b[0m\u001b[0;34m.\u001b[0m\u001b[0m_java_obj\u001b[0m\u001b[0;34m.\u001b[0m\u001b[0mfit\u001b[0m\u001b[0;34m(\u001b[0m\u001b[0mdataset\u001b[0m\u001b[0;34m.\u001b[0m\u001b[0m_jdf\u001b[0m\u001b[0;34m)\u001b[0m\u001b[0;34m\u001b[0m\u001b[0;34m\u001b[0m\u001b[0m\n\u001b[0m\u001b[1;32m    379\u001b[0m \u001b[0;34m\u001b[0m\u001b[0m\n\u001b[1;32m    380\u001b[0m     \u001b[0;32mdef\u001b[0m \u001b[0m_fit\u001b[0m\u001b[0;34m(\u001b[0m\u001b[0mself\u001b[0m\u001b[0;34m,\u001b[0m \u001b[0mdataset\u001b[0m\u001b[0;34m:\u001b[0m \u001b[0mDataFrame\u001b[0m\u001b[0;34m)\u001b[0m \u001b[0;34m->\u001b[0m \u001b[0mJM\u001b[0m\u001b[0;34m:\u001b[0m\u001b[0;34m\u001b[0m\u001b[0;34m\u001b[0m\u001b[0m\n",
            "\u001b[0;32m/usr/local/lib/python3.9/dist-packages/py4j/java_gateway.py\u001b[0m in \u001b[0;36m__call__\u001b[0;34m(self, *args)\u001b[0m\n\u001b[1;32m   1320\u001b[0m \u001b[0;34m\u001b[0m\u001b[0m\n\u001b[1;32m   1321\u001b[0m         \u001b[0manswer\u001b[0m \u001b[0;34m=\u001b[0m \u001b[0mself\u001b[0m\u001b[0;34m.\u001b[0m\u001b[0mgateway_client\u001b[0m\u001b[0;34m.\u001b[0m\u001b[0msend_command\u001b[0m\u001b[0;34m(\u001b[0m\u001b[0mcommand\u001b[0m\u001b[0;34m)\u001b[0m\u001b[0;34m\u001b[0m\u001b[0;34m\u001b[0m\u001b[0m\n\u001b[0;32m-> 1322\u001b[0;31m         return_value = get_return_value(\n\u001b[0m\u001b[1;32m   1323\u001b[0m             answer, self.gateway_client, self.target_id, self.name)\n\u001b[1;32m   1324\u001b[0m \u001b[0;34m\u001b[0m\u001b[0m\n",
            "\u001b[0;32m/usr/local/lib/python3.9/dist-packages/pyspark/errors/exceptions/captured.py\u001b[0m in \u001b[0;36mdeco\u001b[0;34m(*a, **kw)\u001b[0m\n\u001b[1;32m    167\u001b[0m     \u001b[0;32mdef\u001b[0m \u001b[0mdeco\u001b[0m\u001b[0;34m(\u001b[0m\u001b[0;34m*\u001b[0m\u001b[0ma\u001b[0m\u001b[0;34m:\u001b[0m \u001b[0mAny\u001b[0m\u001b[0;34m,\u001b[0m \u001b[0;34m**\u001b[0m\u001b[0mkw\u001b[0m\u001b[0;34m:\u001b[0m \u001b[0mAny\u001b[0m\u001b[0;34m)\u001b[0m \u001b[0;34m->\u001b[0m \u001b[0mAny\u001b[0m\u001b[0;34m:\u001b[0m\u001b[0;34m\u001b[0m\u001b[0;34m\u001b[0m\u001b[0m\n\u001b[1;32m    168\u001b[0m         \u001b[0;32mtry\u001b[0m\u001b[0;34m:\u001b[0m\u001b[0;34m\u001b[0m\u001b[0;34m\u001b[0m\u001b[0m\n\u001b[0;32m--> 169\u001b[0;31m             \u001b[0;32mreturn\u001b[0m \u001b[0mf\u001b[0m\u001b[0;34m(\u001b[0m\u001b[0;34m*\u001b[0m\u001b[0ma\u001b[0m\u001b[0;34m,\u001b[0m \u001b[0;34m**\u001b[0m\u001b[0mkw\u001b[0m\u001b[0;34m)\u001b[0m\u001b[0;34m\u001b[0m\u001b[0;34m\u001b[0m\u001b[0m\n\u001b[0m\u001b[1;32m    170\u001b[0m         \u001b[0;32mexcept\u001b[0m \u001b[0mPy4JJavaError\u001b[0m \u001b[0;32mas\u001b[0m \u001b[0me\u001b[0m\u001b[0;34m:\u001b[0m\u001b[0;34m\u001b[0m\u001b[0;34m\u001b[0m\u001b[0m\n\u001b[1;32m    171\u001b[0m             \u001b[0mconverted\u001b[0m \u001b[0;34m=\u001b[0m \u001b[0mconvert_exception\u001b[0m\u001b[0;34m(\u001b[0m\u001b[0me\u001b[0m\u001b[0;34m.\u001b[0m\u001b[0mjava_exception\u001b[0m\u001b[0;34m)\u001b[0m\u001b[0;34m\u001b[0m\u001b[0;34m\u001b[0m\u001b[0m\n",
            "\u001b[0;32m/usr/local/lib/python3.9/dist-packages/py4j/protocol.py\u001b[0m in \u001b[0;36mget_return_value\u001b[0;34m(answer, gateway_client, target_id, name)\u001b[0m\n\u001b[1;32m    332\u001b[0m                     format(target_id, \".\", name, value))\n\u001b[1;32m    333\u001b[0m         \u001b[0;32melse\u001b[0m\u001b[0;34m:\u001b[0m\u001b[0;34m\u001b[0m\u001b[0;34m\u001b[0m\u001b[0m\n\u001b[0;32m--> 334\u001b[0;31m             raise Py4JError(\n\u001b[0m\u001b[1;32m    335\u001b[0m                 \u001b[0;34m\"An error occurred while calling {0}{1}{2}\"\u001b[0m\u001b[0;34m.\u001b[0m\u001b[0;34m\u001b[0m\u001b[0;34m\u001b[0m\u001b[0m\n\u001b[1;32m    336\u001b[0m                 format(target_id, \".\", name))\n",
            "\u001b[0;31mPy4JError\u001b[0m: An error occurred while calling o180.fit"
          ]
        }
      ]
    },
    {
      "cell_type": "code",
      "source": [
        "spark.stop()"
      ],
      "metadata": {
        "id": "8Vymc8LLYfs6",
        "colab": {
          "base_uri": "https://localhost:8080/",
          "height": 328
        },
        "outputId": "347bf2bd-347d-4338-fbe5-79347b2be139"
      },
      "execution_count": 38,
      "outputs": [
        {
          "output_type": "error",
          "ename": "ConnectionRefusedError",
          "evalue": "ignored",
          "traceback": [
            "\u001b[0;31m---------------------------------------------------------------------------\u001b[0m",
            "\u001b[0;31mConnectionRefusedError\u001b[0m                    Traceback (most recent call last)",
            "\u001b[0;32m<ipython-input-38-5c6b4d5d9db0>\u001b[0m in \u001b[0;36m<cell line: 1>\u001b[0;34m()\u001b[0m\n\u001b[0;32m----> 1\u001b[0;31m \u001b[0mspark\u001b[0m\u001b[0;34m.\u001b[0m\u001b[0mstop\u001b[0m\u001b[0;34m(\u001b[0m\u001b[0;34m)\u001b[0m\u001b[0;34m\u001b[0m\u001b[0;34m\u001b[0m\u001b[0m\n\u001b[0m",
            "\u001b[0;32m/usr/local/lib/python3.9/dist-packages/pyspark/sql/session.py\u001b[0m in \u001b[0;36mstop\u001b[0;34m(self)\u001b[0m\n\u001b[1;32m   1597\u001b[0m         \u001b[0;32mfrom\u001b[0m \u001b[0mpyspark\u001b[0m\u001b[0;34m.\u001b[0m\u001b[0msql\u001b[0m\u001b[0;34m.\u001b[0m\u001b[0mcontext\u001b[0m \u001b[0;32mimport\u001b[0m \u001b[0mSQLContext\u001b[0m\u001b[0;34m\u001b[0m\u001b[0;34m\u001b[0m\u001b[0m\n\u001b[1;32m   1598\u001b[0m \u001b[0;34m\u001b[0m\u001b[0m\n\u001b[0;32m-> 1599\u001b[0;31m         \u001b[0mself\u001b[0m\u001b[0;34m.\u001b[0m\u001b[0m_sc\u001b[0m\u001b[0;34m.\u001b[0m\u001b[0mstop\u001b[0m\u001b[0;34m(\u001b[0m\u001b[0;34m)\u001b[0m\u001b[0;34m\u001b[0m\u001b[0;34m\u001b[0m\u001b[0m\n\u001b[0m\u001b[1;32m   1600\u001b[0m         \u001b[0;31m# We should clean the default session up. See SPARK-23228.\u001b[0m\u001b[0;34m\u001b[0m\u001b[0;34m\u001b[0m\u001b[0m\n\u001b[1;32m   1601\u001b[0m         \u001b[0;32massert\u001b[0m \u001b[0mself\u001b[0m\u001b[0;34m.\u001b[0m\u001b[0m_jvm\u001b[0m \u001b[0;32mis\u001b[0m \u001b[0;32mnot\u001b[0m \u001b[0;32mNone\u001b[0m\u001b[0;34m\u001b[0m\u001b[0;34m\u001b[0m\u001b[0m\n",
            "\u001b[0;32m/usr/local/lib/python3.9/dist-packages/pyspark/context.py\u001b[0m in \u001b[0;36mstop\u001b[0;34m(self)\u001b[0m\n\u001b[1;32m    649\u001b[0m         \u001b[0;32mif\u001b[0m \u001b[0mgetattr\u001b[0m\u001b[0;34m(\u001b[0m\u001b[0mself\u001b[0m\u001b[0;34m,\u001b[0m \u001b[0;34m\"_jsc\"\u001b[0m\u001b[0;34m,\u001b[0m \u001b[0;32mNone\u001b[0m\u001b[0;34m)\u001b[0m\u001b[0;34m:\u001b[0m\u001b[0;34m\u001b[0m\u001b[0;34m\u001b[0m\u001b[0m\n\u001b[1;32m    650\u001b[0m             \u001b[0;32mtry\u001b[0m\u001b[0;34m:\u001b[0m\u001b[0;34m\u001b[0m\u001b[0;34m\u001b[0m\u001b[0m\n\u001b[0;32m--> 651\u001b[0;31m                 \u001b[0mself\u001b[0m\u001b[0;34m.\u001b[0m\u001b[0m_jsc\u001b[0m\u001b[0;34m.\u001b[0m\u001b[0mstop\u001b[0m\u001b[0;34m(\u001b[0m\u001b[0;34m)\u001b[0m\u001b[0;34m\u001b[0m\u001b[0;34m\u001b[0m\u001b[0m\n\u001b[0m\u001b[1;32m    652\u001b[0m             \u001b[0;32mexcept\u001b[0m \u001b[0mPy4JError\u001b[0m\u001b[0;34m:\u001b[0m\u001b[0;34m\u001b[0m\u001b[0;34m\u001b[0m\u001b[0m\n\u001b[1;32m    653\u001b[0m                 \u001b[0;31m# Case: SPARK-18523\u001b[0m\u001b[0;34m\u001b[0m\u001b[0;34m\u001b[0m\u001b[0m\n",
            "\u001b[0;32m/usr/local/lib/python3.9/dist-packages/py4j/java_gateway.py\u001b[0m in \u001b[0;36m__call__\u001b[0;34m(self, *args)\u001b[0m\n\u001b[1;32m   1319\u001b[0m             \u001b[0mproto\u001b[0m\u001b[0;34m.\u001b[0m\u001b[0mEND_COMMAND_PART\u001b[0m\u001b[0;34m\u001b[0m\u001b[0;34m\u001b[0m\u001b[0m\n\u001b[1;32m   1320\u001b[0m \u001b[0;34m\u001b[0m\u001b[0m\n\u001b[0;32m-> 1321\u001b[0;31m         \u001b[0manswer\u001b[0m \u001b[0;34m=\u001b[0m \u001b[0mself\u001b[0m\u001b[0;34m.\u001b[0m\u001b[0mgateway_client\u001b[0m\u001b[0;34m.\u001b[0m\u001b[0msend_command\u001b[0m\u001b[0;34m(\u001b[0m\u001b[0mcommand\u001b[0m\u001b[0;34m)\u001b[0m\u001b[0;34m\u001b[0m\u001b[0;34m\u001b[0m\u001b[0m\n\u001b[0m\u001b[1;32m   1322\u001b[0m         return_value = get_return_value(\n\u001b[1;32m   1323\u001b[0m             answer, self.gateway_client, self.target_id, self.name)\n",
            "\u001b[0;32m/usr/local/lib/python3.9/dist-packages/py4j/java_gateway.py\u001b[0m in \u001b[0;36msend_command\u001b[0;34m(self, command, retry, binary)\u001b[0m\n\u001b[1;32m   1034\u001b[0m          \u001b[0;32mif\u001b[0m\u001b[0;31m \u001b[0m\u001b[0;31m`\u001b[0m\u001b[0mbinary\u001b[0m\u001b[0;31m`\u001b[0m \u001b[0;32mis\u001b[0m\u001b[0;31m \u001b[0m\u001b[0;31m`\u001b[0m\u001b[0;32mTrue\u001b[0m\u001b[0;31m`\u001b[0m\u001b[0;34m.\u001b[0m\u001b[0;34m\u001b[0m\u001b[0;34m\u001b[0m\u001b[0m\n\u001b[1;32m   1035\u001b[0m         \"\"\"\n\u001b[0;32m-> 1036\u001b[0;31m         \u001b[0mconnection\u001b[0m \u001b[0;34m=\u001b[0m \u001b[0mself\u001b[0m\u001b[0;34m.\u001b[0m\u001b[0m_get_connection\u001b[0m\u001b[0;34m(\u001b[0m\u001b[0;34m)\u001b[0m\u001b[0;34m\u001b[0m\u001b[0;34m\u001b[0m\u001b[0m\n\u001b[0m\u001b[1;32m   1037\u001b[0m         \u001b[0;32mtry\u001b[0m\u001b[0;34m:\u001b[0m\u001b[0;34m\u001b[0m\u001b[0;34m\u001b[0m\u001b[0m\n\u001b[1;32m   1038\u001b[0m             \u001b[0mresponse\u001b[0m \u001b[0;34m=\u001b[0m \u001b[0mconnection\u001b[0m\u001b[0;34m.\u001b[0m\u001b[0msend_command\u001b[0m\u001b[0;34m(\u001b[0m\u001b[0mcommand\u001b[0m\u001b[0;34m)\u001b[0m\u001b[0;34m\u001b[0m\u001b[0;34m\u001b[0m\u001b[0m\n",
            "\u001b[0;32m/usr/local/lib/python3.9/dist-packages/py4j/clientserver.py\u001b[0m in \u001b[0;36m_get_connection\u001b[0;34m(self)\u001b[0m\n\u001b[1;32m    282\u001b[0m \u001b[0;34m\u001b[0m\u001b[0m\n\u001b[1;32m    283\u001b[0m         \u001b[0;32mif\u001b[0m \u001b[0mconnection\u001b[0m \u001b[0;32mis\u001b[0m \u001b[0;32mNone\u001b[0m \u001b[0;32mor\u001b[0m \u001b[0mconnection\u001b[0m\u001b[0;34m.\u001b[0m\u001b[0msocket\u001b[0m \u001b[0;32mis\u001b[0m \u001b[0;32mNone\u001b[0m\u001b[0;34m:\u001b[0m\u001b[0;34m\u001b[0m\u001b[0;34m\u001b[0m\u001b[0m\n\u001b[0;32m--> 284\u001b[0;31m             \u001b[0mconnection\u001b[0m \u001b[0;34m=\u001b[0m \u001b[0mself\u001b[0m\u001b[0;34m.\u001b[0m\u001b[0m_create_new_connection\u001b[0m\u001b[0;34m(\u001b[0m\u001b[0;34m)\u001b[0m\u001b[0;34m\u001b[0m\u001b[0;34m\u001b[0m\u001b[0m\n\u001b[0m\u001b[1;32m    285\u001b[0m         \u001b[0;32mreturn\u001b[0m \u001b[0mconnection\u001b[0m\u001b[0;34m\u001b[0m\u001b[0;34m\u001b[0m\u001b[0m\n\u001b[1;32m    286\u001b[0m \u001b[0;34m\u001b[0m\u001b[0m\n",
            "\u001b[0;32m/usr/local/lib/python3.9/dist-packages/py4j/clientserver.py\u001b[0m in \u001b[0;36m_create_new_connection\u001b[0;34m(self)\u001b[0m\n\u001b[1;32m    289\u001b[0m             \u001b[0mself\u001b[0m\u001b[0;34m.\u001b[0m\u001b[0mjava_parameters\u001b[0m\u001b[0;34m,\u001b[0m \u001b[0mself\u001b[0m\u001b[0;34m.\u001b[0m\u001b[0mpython_parameters\u001b[0m\u001b[0;34m,\u001b[0m\u001b[0;34m\u001b[0m\u001b[0;34m\u001b[0m\u001b[0m\n\u001b[1;32m    290\u001b[0m             self.gateway_property, self)\n\u001b[0;32m--> 291\u001b[0;31m         \u001b[0mconnection\u001b[0m\u001b[0;34m.\u001b[0m\u001b[0mconnect_to_java_server\u001b[0m\u001b[0;34m(\u001b[0m\u001b[0;34m)\u001b[0m\u001b[0;34m\u001b[0m\u001b[0;34m\u001b[0m\u001b[0m\n\u001b[0m\u001b[1;32m    292\u001b[0m         \u001b[0mself\u001b[0m\u001b[0;34m.\u001b[0m\u001b[0mset_thread_connection\u001b[0m\u001b[0;34m(\u001b[0m\u001b[0mconnection\u001b[0m\u001b[0;34m)\u001b[0m\u001b[0;34m\u001b[0m\u001b[0;34m\u001b[0m\u001b[0m\n\u001b[1;32m    293\u001b[0m         \u001b[0;32mreturn\u001b[0m \u001b[0mconnection\u001b[0m\u001b[0;34m\u001b[0m\u001b[0;34m\u001b[0m\u001b[0m\n",
            "\u001b[0;32m/usr/local/lib/python3.9/dist-packages/py4j/clientserver.py\u001b[0m in \u001b[0;36mconnect_to_java_server\u001b[0;34m(self)\u001b[0m\n\u001b[1;32m    436\u001b[0m                 self.socket = self.ssl_context.wrap_socket(\n\u001b[1;32m    437\u001b[0m                     self.socket, server_hostname=self.java_address)\n\u001b[0;32m--> 438\u001b[0;31m             \u001b[0mself\u001b[0m\u001b[0;34m.\u001b[0m\u001b[0msocket\u001b[0m\u001b[0;34m.\u001b[0m\u001b[0mconnect\u001b[0m\u001b[0;34m(\u001b[0m\u001b[0;34m(\u001b[0m\u001b[0mself\u001b[0m\u001b[0;34m.\u001b[0m\u001b[0mjava_address\u001b[0m\u001b[0;34m,\u001b[0m \u001b[0mself\u001b[0m\u001b[0;34m.\u001b[0m\u001b[0mjava_port\u001b[0m\u001b[0;34m)\u001b[0m\u001b[0;34m)\u001b[0m\u001b[0;34m\u001b[0m\u001b[0;34m\u001b[0m\u001b[0m\n\u001b[0m\u001b[1;32m    439\u001b[0m             \u001b[0mself\u001b[0m\u001b[0;34m.\u001b[0m\u001b[0mstream\u001b[0m \u001b[0;34m=\u001b[0m \u001b[0mself\u001b[0m\u001b[0;34m.\u001b[0m\u001b[0msocket\u001b[0m\u001b[0;34m.\u001b[0m\u001b[0mmakefile\u001b[0m\u001b[0;34m(\u001b[0m\u001b[0;34m\"rb\"\u001b[0m\u001b[0;34m)\u001b[0m\u001b[0;34m\u001b[0m\u001b[0;34m\u001b[0m\u001b[0m\n\u001b[1;32m    440\u001b[0m             \u001b[0mself\u001b[0m\u001b[0;34m.\u001b[0m\u001b[0mis_connected\u001b[0m \u001b[0;34m=\u001b[0m \u001b[0;32mTrue\u001b[0m\u001b[0;34m\u001b[0m\u001b[0;34m\u001b[0m\u001b[0m\n",
            "\u001b[0;31mConnectionRefusedError\u001b[0m: [Errno 111] Connection refused"
          ]
        }
      ]
    }
  ]
}